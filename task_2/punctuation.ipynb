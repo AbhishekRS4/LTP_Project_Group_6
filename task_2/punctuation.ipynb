{
 "cells": [
  {
   "cell_type": "code",
   "execution_count": 1,
   "metadata": {},
   "outputs": [
    {
     "name": "stdout",
     "output_type": "stream",
     "text": [
      "{'Lifestyle': {'GetMotivated': 1, 'Fitness': 1, 'trees': 2, 'EatCheapAndHealthy': 1, 'personalfinance': 6}, 'News and Politics': {'politics': 239, 'nottheonion': 11, 'UpliftingNews': 4, 'LateStageCapitalism': 2, 'The_Donald': 165, 'worldnews': 9, 'PoliticalDiscussion': 30, 'EnoughTrumpSpam': 1, 'news': 32}, 'Art': {'Art': 2}, 'Business': {'Capitalism': 3}, 'Science': {'Futurology': 20, 'science': 1}, 'Sports': {'sports': 10, 'ussoccer': 1, 'worldcup': 7}, 'Locations': {'chicago': 15}, 'General': {'videos': 51, 'changemyview': 8, 'photoshopbattles': 1, 'lostgeneration': 6, 'AskReddit': 530, 'pics': 27, 'gifs': 10, 'AdviceAnimals': 1, 'mildlyinteresting': 1, 'todayilearned': 14, 'quotes': 2, 'Showerthoughts': 6, 'PublicFreakout': 1, 'IAmA': 3, 'funny': 31, 'LifeProTips': 5, 'OldSchoolCool': 1, 'explainlikeimfive': 15, 'RoastMe': 25}, 'Gaming': {'gaming': 5, 'KotakuInAction': 4, 'wow': 1}, 'Technology': {'InternetIsBeautiful': 1, 'learnpython': 2, 'dataisbeautiful': 5, 'linuxquestions': 2, 'vba': 2, 'linuxmint': 3, 'SuggestALaptop': 3, 'SQL': 2}, 'Other': {'ghostbusters': 2, 'blenderhelp': 1}, 'Social Science and Humanities': {'history': 1, 'philosophy': 3}, 'Music': {'beatles': 2, 'Music': 3}, 'Entertainment': {'Documentaries': 9, 'southpark': 7, 'television': 10, 'madmen': 3, 'StarWars': 5, 'improv': 9, 'books': 1, 'movies': 7, 'HouseOfCards': 7}}\n"
     ]
    }
   ],
   "source": [
    "import pandas as pd\n",
    "import json\n",
    "import string\n",
    "import warnings\n",
    "\n",
    "warnings.simplefilter(action='ignore', category=FutureWarning)\n",
    "\n",
    "def preprocess_strings(df):\n",
    "    # Define the set of punctuation characters to remove from the \n",
    "    punctuations = set(string.punctuation) \n",
    "\n",
    "    # Preprocess each string in the list\n",
    "    preprocessed_strings = []\n",
    "    for strng in df:\n",
    "        # Remove punctuation characters\n",
    "        strng = ''.join(char for char in strng if char not in punctuations)\n",
    "\n",
    "        # Add the preprocessed string to the result list\n",
    "        preprocessed_strings.append(strng)\n",
    "\n",
    "    return preprocessed_strings\n",
    "\n",
    "# Load the JSONL file into a DataFrame\n",
    "with open('author_subreddit_category.jsonl', 'r') as json_file:\n",
    "    json_list = list(json_file)\n",
    "\n",
    "data = pd.DataFrame()\n",
    "for json_str in json_list:\n",
    "    result = json.loads(json_str)\n",
    "    data = data.append(result, ignore_index=True)\n",
    "\n",
    "print(data['subreddits'][0])\n",
    "\n",
    "# Preprocess the strings in the 'subreddits' column\n",
    "# data['subreddits'] = preprocess_strings(data['subreddits'])\n"
   ]
  },
  {
   "cell_type": "code",
   "execution_count": 4,
   "metadata": {},
   "outputs": [
    {
     "data": {
      "text/plain": [
       "{'Lifestyle': {'GetMotivated': 1,\n",
       "  'Fitness': 1,\n",
       "  'trees': 2,\n",
       "  'EatCheapAndHealthy': 1,\n",
       "  'personalfinance': 6},\n",
       " 'News and Politics': {'politics': 239,\n",
       "  'nottheonion': 11,\n",
       "  'UpliftingNews': 4,\n",
       "  'LateStageCapitalism': 2,\n",
       "  'The_Donald': 165,\n",
       "  'worldnews': 9,\n",
       "  'PoliticalDiscussion': 30,\n",
       "  'EnoughTrumpSpam': 1,\n",
       "  'news': 32},\n",
       " 'Art': {'Art': 2},\n",
       " 'Business': {'Capitalism': 3},\n",
       " 'Science': {'Futurology': 20, 'science': 1},\n",
       " 'Sports': {'sports': 10, 'ussoccer': 1, 'worldcup': 7},\n",
       " 'Locations': {'chicago': 15},\n",
       " 'General': {'videos': 51,\n",
       "  'changemyview': 8,\n",
       "  'photoshopbattles': 1,\n",
       "  'lostgeneration': 6,\n",
       "  'AskReddit': 530,\n",
       "  'pics': 27,\n",
       "  'gifs': 10,\n",
       "  'AdviceAnimals': 1,\n",
       "  'mildlyinteresting': 1,\n",
       "  'todayilearned': 14,\n",
       "  'quotes': 2,\n",
       "  'Showerthoughts': 6,\n",
       "  'PublicFreakout': 1,\n",
       "  'IAmA': 3,\n",
       "  'funny': 31,\n",
       "  'LifeProTips': 5,\n",
       "  'OldSchoolCool': 1,\n",
       "  'explainlikeimfive': 15,\n",
       "  'RoastMe': 25},\n",
       " 'Gaming': {'gaming': 5, 'KotakuInAction': 4, 'wow': 1},\n",
       " 'Technology': {'InternetIsBeautiful': 1,\n",
       "  'learnpython': 2,\n",
       "  'dataisbeautiful': 5,\n",
       "  'linuxquestions': 2,\n",
       "  'vba': 2,\n",
       "  'linuxmint': 3,\n",
       "  'SuggestALaptop': 3,\n",
       "  'SQL': 2},\n",
       " 'Other': {'ghostbusters': 2, 'blenderhelp': 1},\n",
       " 'Social Science and Humanities': {'history': 1, 'philosophy': 3},\n",
       " 'Music': {'beatles': 2, 'Music': 3},\n",
       " 'Entertainment': {'Documentaries': 9,\n",
       "  'southpark': 7,\n",
       "  'television': 10,\n",
       "  'madmen': 3,\n",
       "  'StarWars': 5,\n",
       "  'improv': 9,\n",
       "  'books': 1,\n",
       "  'movies': 7,\n",
       "  'HouseOfCards': 7}}"
      ]
     },
     "execution_count": 4,
     "metadata": {},
     "output_type": "execute_result"
    }
   ],
   "source": [
    "data['subreddits'][0]"
   ]
  }
 ],
 "metadata": {
  "kernelspec": {
   "display_name": "base",
   "language": "python",
   "name": "python3"
  },
  "language_info": {
   "codemirror_mode": {
    "name": "ipython",
    "version": 3
   },
   "file_extension": ".py",
   "mimetype": "text/x-python",
   "name": "python",
   "nbconvert_exporter": "python",
   "pygments_lexer": "ipython3",
   "version": "3.10.9"
  },
  "orig_nbformat": 4
 },
 "nbformat": 4,
 "nbformat_minor": 2
}
