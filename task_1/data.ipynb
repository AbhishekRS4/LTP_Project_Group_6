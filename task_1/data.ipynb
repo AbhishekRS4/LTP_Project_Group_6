{
 "cells": [
  {
   "cell_type": "code",
   "execution_count": null,
   "metadata": {},
   "outputs": [],
   "source": [
    "import os\n",
    "import pandas as pd\n",
    "from datasets import load_dataset\n",
    "import random\n",
    "import warnings\n",
    "warnings.simplefilter(action='ignore', category=FutureWarning)"
   ]
  },
  {
   "attachments": {},
   "cell_type": "markdown",
   "metadata": {},
   "source": [
    "Data Path"
   ]
  },
  {
   "cell_type": "code",
   "execution_count": null,
   "metadata": {},
   "outputs": [],
   "source": [
    "data_dir = os.path.join('dataset')\n",
    "arguments_training_filepath = os.path.join(data_dir, 'arguments-training.tsv')\n",
    "arguments_validation_filepath = os.path.join(data_dir, 'arguments-validation.tsv')\n",
    "arguments_validation_filepath_zhihu = os.path.join(data_dir, 'arguments-validation-zhihu.tsv')\n",
    "arguments_test_filepath = os.path.join(data_dir, 'arguments-test.tsv')\n",
    "\n",
    "labels_training_filepath = os.path.join(data_dir, 'labels-training.tsv')\n",
    "labels_validation_filepath = os.path.join(data_dir, 'labels-validation.tsv')\n",
    "labels_validation_filepath_zhihu = os.path.join(data_dir, 'labels-validation-zhihu.tsv')\n",
    "labels_test_filepath = os.path.join(data_dir, 'labels-test.tsv')\n"
   ]
  },
  {
   "cell_type": "code",
   "execution_count": null,
   "metadata": {},
   "outputs": [],
   "source": [
    "HIGHER_ORDER_VALUES = ['Opennes to change', 'Self-transcendence', 'Conservation', 'Self-enhancement']\n",
    "\n",
    "HIGHER_ORDER_VALUES_AND_SUB = {'Opennes to change':['Self-direction: thought', 'Self-direction: action', 'Stimulation', 'Hedonism'], \n",
    "                       'Self-transcendence':['Humility', 'Benevolence: caring','Benevolence: dependability', 'Universalism: concern', 'Universalism: nature', 'Universalism: tolerance', 'Universalism: objectivity'], \n",
    "                       'Conservation':['Humility', 'Tradition','Conformity: interpresonal','Conformity: rules', 'Security: societal', 'Security: personal', 'Face'], \n",
    "                       'Self-enhancement':['Face', 'Power: dominance', 'Power: resources', 'Achievement', 'Hedonism']}\n",
    "\n",
    "\n",
    "LABELS = ['Self-direction thought', 'Self-direction action', 'Stimulation', 'Hedonism', 'Achievement', 'Power dominance', 'Power resources', 'Face', 'Security personal', 'Security societal', 'Tradition', 'Conformity rules', 'Conformity interpersonal', 'Humility', 'Benevolence caring', 'Benevolence dependability', 'Universalism concern', 'Universalism nature', 'Universalism tolerance', 'Universalism objectivity']\n",
    "PROMPT_FORMATS = [\"The premise: '{}' is '{}'. The conclusion is '{}'\\n. Question: Which value category does the argument belong to? Options: {} \\n\",\n",
    "                  \"Premise: {}\\nStance: {}\\nConclusion: {}. Value category: {}\\n Question: Which value category does the argument belong to?\\n\",\n",
    "                  \"Argument: {}. {}. {}. Value category: {}\\n Question: Which value category does the argument belong to?\\n\"]\n",
    "\n",
    "ENSEMBLE_PROMPT = [\"The premise '{}' is '{}'. The conclusion is '{}'. Which of the following higher order values does that support, there can be more than one option? Options: {}\\n\",\n",
    "                   \"The premise '{}' is '{}'. The conclusion is '{}'. This falls in the higher order value of '{}'. Which of the following value categories does that support? {}\\n\"]\n",
    "\n",
    "\n",
    "def convert_binary_labels_to_string(df):\n",
    "    label_names = df.columns[1:]\n",
    "    labels = []\n",
    "\n",
    "    for index, row in df.iterrows():\n",
    "        binary_values = row.values[1:]\n",
    "        string_labels = ''\n",
    "        for i, value in enumerate(binary_values):\n",
    "            if value == 1:\n",
    "                string_labels += label_names[i] + ', '\n",
    "        labels.append(string_labels[:-2])\n",
    "    return labels\n",
    "\n",
    "def ensemble_prompt_higher_order(df):\n",
    "    \"\"\"Creates an ensemble prompt for each argument with the first prompt format\"\"\"\n",
    "    \n",
    "    template = ENSEMBLE_PROMPT[0]\n",
    "    prompts = [\n",
    "                template.format(row['Premise'], row['Stance'], row['Conclusion'], ', '.join(HIGHER_ORDER_VALUES))\n",
    "                for _, row in df.iterrows()\n",
    "    ]\n",
    "    df['ensemble'] = prompts\n",
    "    return df\n",
    "\n",
    "\n",
    "def single_shot_prompt(df):\n",
    "    \"\"\"Creates a single shot prompt for each argument with the first prompt format\"\"\"\n",
    "    \n",
    "    template = PROMPT_FORMATS[0] # use the first template \n",
    "    prompts = [\n",
    "                template.format(row['Premise'], row['Stance'], row['Conclusion'], ', '.join(LABELS))\n",
    "                for _, row in df.iterrows()\n",
    "    ]\n",
    "    df['single_shot_prompt'] = prompts\n",
    "    return df\n",
    "\n",
    "def few_shot_prompt(df, num_shots=1, prompt_format=0, random_seed=46):\n",
    "    \"\"\"Creates a few shot prompt for each argument\"\"\"\n",
    "\n",
    "    prompt_format = PROMPT_FORMATS[prompt_format]\n",
    "    \n",
    "    selected_arguments = df.sample(n=num_shots, random_state=random_seed)\n",
    "    few_shot_prompts = [\n",
    "        prompt_format.format(row['Premise'], row['Stance'], row['Conclusion'], ', '.join(LABELS)) + f\"Answer: {random.choice(LABELS)}\\n\"\n",
    "        for _, row in selected_arguments.iterrows()\n",
    "    ]\n",
    "    df['few_shot_prompt'] = df.apply(lambda row: ''.join(few_shot_prompts) + prompt_format.format(row['Premise'], row['Stance'], row['Conclusion'], ', '.join(LABELS)) + f\"Answer: \\n\", axis=1)\n",
    "    return df\n",
    "\n",
    "\n",
    "# used for testing different prompt formats \n",
    "def prompt_formats(df):\n",
    "    prompts = [\n",
    "        [\n",
    "            prompt.format(row['Premise'], row['Stance'], row['Conclusion'], ', '.join(LABELS))\n",
    "            for prompt in PROMPT_FORMATS\n",
    "        ]\n",
    "        for _, row in df.iterrows()\n",
    "    ]\n",
    "\n",
    "    df['prompt_formats'] = prompts\n",
    "    return df\n",
    "\n",
    "def labels_to_multi_choice():\n",
    "    \"\"\"Converts the labels to a multi choice format\"\"\"\n",
    "    multi_choice_format = \"{}: {}\"\n",
    "    multi_choice_options = []\n",
    "\n",
    "    for index, label in enumerate(LABELS):\n",
    "        multi_choice_option = multi_choice_format.format(chr(65 + index), label)\n",
    "        multi_choice_options.append(multi_choice_option)\n",
    "\n",
    "    return multi_choice_options\n",
    "\n",
    "def label_to_vector(df):\n",
    "    \"\"\"Converts the labels to a vector\"\"\"\n",
    "    label_names = df.iloc[:, 1:]\n",
    "    return label_names.values.tolist()"
   ]
  },
  {
   "attachments": {},
   "cell_type": "markdown",
   "metadata": {},
   "source": [
    "Load the data"
   ]
  },
  {
   "cell_type": "code",
   "execution_count": null,
   "metadata": {},
   "outputs": [],
   "source": [
    "train = pd.read_csv(arguments_training_filepath, encoding='utf-8', sep='\\t', header=0)\n",
    "validation = pd.read_csv(arguments_validation_filepath, encoding='utf-8', sep='\\t', header=0)\n",
    "validation_zhihu = pd.read_csv(arguments_validation_filepath_zhihu, encoding='utf-8', sep='\\t', header=0)\n",
    "test = pd.read_csv(arguments_test_filepath, encoding='utf-8', sep='\\t', header=0)\n",
    "\n",
    "labels_training = pd.read_csv(labels_training_filepath, encoding='utf-8', sep='\\t', header=0)\n",
    "labels_validation = pd.read_csv(labels_validation_filepath, encoding='utf-8', sep='\\t', header=0)\n",
    "labels_validation_zhihu = pd.read_csv(labels_validation_filepath_zhihu, encoding='utf-8', sep='\\t', header=0)\n",
    "labels_test = pd.read_csv(labels_test_filepath, encoding='utf-8', sep='\\t', header=0)\n"
   ]
  },
  {
   "attachments": {},
   "cell_type": "markdown",
   "metadata": {},
   "source": [
    "## add vector labels to the dataframes "
   ]
  },
  {
   "cell_type": "code",
   "execution_count": null,
   "metadata": {},
   "outputs": [],
   "source": [
    "train['label_vector'] = label_to_vector(labels_training)\n",
    "validation['label_vector'] = label_to_vector(labels_validation)\n",
    "validation_zhihu['label_vector'] = label_to_vector(labels_validation_zhihu)\n",
    "test['label_vector'] = label_to_vector(labels_test)\n",
    "train.head()"
   ]
  },
  {
   "attachments": {},
   "cell_type": "markdown",
   "metadata": {},
   "source": [
    "## Combine the data and labels into a single dataframe"
   ]
  },
  {
   "cell_type": "code",
   "execution_count": null,
   "metadata": {},
   "outputs": [],
   "source": [
    "train['label_string'] = convert_binary_labels_to_string(labels_training)\n",
    "validation['label_string'] = convert_binary_labels_to_string(labels_validation)\n",
    "validation_zhihu['label_string'] = convert_binary_labels_to_string(labels_validation_zhihu)\n",
    "test['label_string'] = convert_binary_labels_to_string(labels_test)\n",
    "\n",
    "# train.iloc[7]['label_string']\n",
    "train.iloc[:20]"
   ]
  },
  {
   "attachments": {},
   "cell_type": "markdown",
   "metadata": {},
   "source": [
    "## Add higher level labels to dataframe"
   ]
  },
  {
   "cell_type": "code",
   "execution_count": null,
   "metadata": {},
   "outputs": [],
   "source": [
    "higher_order_values_df = pd.DataFrame(columns=['higher_order_value', 'value_category'])\n",
    "for higher_order_value in HIGHER_ORDER_VALUES_AND_SUB:\n",
    "    for value_category in HIGHER_ORDER_VALUES_AND_SUB[higher_order_value]:\n",
    "        higher_order_values_df = higher_order_values_df.append({'higher_order_value': higher_order_value, 'value_category': value_category}, ignore_index=True)\n",
    "\n",
    "# higher_order_values_df"
   ]
  },
  {
   "cell_type": "code",
   "execution_count": null,
   "metadata": {},
   "outputs": [],
   "source": [
    "# # add the higher order values to the labels of the training, validation and test set\n",
    "def add_higher_order_values(df):\n",
    "    df['higher_order_value'] = df['label_string'].apply(lambda x: higher_order_values_df[higher_order_values_df['value_category'].isin(x)]['higher_order_value'].unique())\n",
    "    return df\n",
    "\n",
    "train = add_higher_order_values(train)\n",
    "# validation = add_higher_order_values(validation)\n",
    "# validation_zhihu = add_higher_order_values(validation_zhihu)\n",
    "# test = add_higher_order_values(test)\n",
    "\n",
    "train.head()"
   ]
  },
  {
   "attachments": {},
   "cell_type": "markdown",
   "metadata": {},
   "source": [
    "## Add promts to dataframe"
   ]
  },
  {
   "cell_type": "code",
   "execution_count": null,
   "metadata": {},
   "outputs": [],
   "source": [
    "train = single_shot_prompt(train)\n",
    "train = few_shot_prompt(train, num_shots=1, prompt_format=0, random_seed=46)\n",
    "train = ensemble_prompt_higher_order(train) # \n",
    "\n",
    "train.head()"
   ]
  },
  {
   "attachments": {},
   "cell_type": "markdown",
   "metadata": {},
   "source": [
    "## Setup the model"
   ]
  },
  {
   "cell_type": "code",
   "execution_count": null,
   "metadata": {},
   "outputs": [],
   "source": [
    "from transformers import AutoTokenizer, AutoModelForSeq2SeqLM\n",
    "\n",
    "tokenizer = AutoTokenizer.from_pretrained(\"google/flan-t5-base\")\n",
    "model = AutoModelForSeq2SeqLM.from_pretrained(\"google/flan-t5-base\")"
   ]
  },
  {
   "attachments": {},
   "cell_type": "markdown",
   "metadata": {},
   "source": [
    "## Select 10 random samples "
   ]
  },
  {
   "cell_type": "code",
   "execution_count": null,
   "metadata": {},
   "outputs": [],
   "source": [
    "train_10 = train.sample(10)\n",
    "train_10"
   ]
  },
  {
   "attachments": {},
   "cell_type": "markdown",
   "metadata": {},
   "source": [
    "## Zero-shot"
   ]
  },
  {
   "cell_type": "code",
   "execution_count": null,
   "metadata": {},
   "outputs": [],
   "source": [
    "def query_from_list(query):\n",
    "    inputs = tokenizer(query, return_tensors=\"pt\")\n",
    "    outputs = model.generate(**inputs, max_new_tokens=20)\n",
    "    return tokenizer.batch_decode(outputs, skip_special_tokens=True)\n",
    "\n",
    "for index, row in train_10.iterrows():\n",
    "    result = query_from_list(row['single_shot_prompt'])\n",
    "    print(f\"Prompt: {row['single_shot_prompt']} \\n Prediction: {result[0]}\\n True Label: {row['label_string']}\\n\")\n",
    "    print(60*'-')"
   ]
  },
  {
   "attachments": {},
   "cell_type": "markdown",
   "metadata": {},
   "source": [
    "## Few-shot"
   ]
  },
  {
   "cell_type": "code",
   "execution_count": null,
   "metadata": {},
   "outputs": [],
   "source": [
    "for index, row in train_10.iterrows():\n",
    "    result = query_from_list(row['few_shot_prompt'])\n",
    "    print(f\"{row['few_shot_prompt']:<24} {result[0]}\\n True Label: {row['label_string']}\\n\")\n",
    "    # break"
   ]
  },
  {
   "attachments": {},
   "cell_type": "markdown",
   "metadata": {},
   "source": [
    "## Prompt ensemble for higher order values"
   ]
  },
  {
   "cell_type": "code",
   "execution_count": null,
   "metadata": {},
   "outputs": [],
   "source": [
    "for index, row in train_10.iterrows():\n",
    "    result = query_from_list(row['ensemble'])\n",
    "    print(f\"Prompt1:\\t{row['ensemble']} Prediction higher_order_value:\\t {result[0]}\\n True higher_order_value:\\t{row['higher_order_value']}\")\n",
    "    # template = \"The premise '{}' is '{}'. The conclusion is '{}'. This falls in the higher order value of '{}'. Which of the following value categories does that support? {}\\n\"\n",
    "    template = ENSEMBLE_PROMPT[1]\n",
    "    values = HIGHER_ORDER_VALUES_AND_SUB[result[0]]\n",
    "    prompt = template.format(row['Premise'], row['Stance'], row['Conclusion'], result[0], values)\n",
    "    result = query_from_list(prompt)\n",
    "    print(f\"Prompt2:\\t {prompt}Predicted value category:\\t {result[0]}\\n True value category:\\t {row['label_string']}\\n\")\n",
    "    print(10*'-------------------')"
   ]
  },
  {
   "cell_type": "code",
   "execution_count": 29,
   "metadata": {},
   "outputs": [
    {
     "data": {
      "text/plain": [
       "{'Argument ID': 'A01008',\n",
       " 'Conclusion': 'We should ban factory farming',\n",
       " 'Stance': 'against',\n",
       " 'Premise': 'factory farming allows for the production of cheap food, which is a necessity for families surviving on a low income.',\n",
       " 'label_vector': [0, 0, 0, 0, 0, 0, 0, 0, 1, 0, 0, 0, 0, 0, 1, 0, 1, 0, 0, 0],\n",
       " 'label_string': 'Security: personal, Benevolence: caring, Universalism: concern',\n",
       " 'single_shot_prompt': \"The premise: 'factory farming allows for the production of cheap food, which is a necessity for families surviving on a low income.' is 'against'. The conclusion is 'We should ban factory farming'. Value category: Self-direction thought, Self-direction action, Stimulation, Hedonism, Achievement, Power dominance, Power resources, Face, Security personal, Security societal, Tradition, Conformity rules, Conformity interpersonal, Humility, Benevolence caring, Benevolence dependability, Universalism concern, Universalism nature, Universalism tolerance, Universalism objectivity\\n Question: Which value category does the argument belong to?\\n\",\n",
       " 'few_shot_prompt': \"The premise: 'people should keep their religion to themselves' is 'in favor of'. The conclusion is 'We should ban missionary work'. Value category: Self-direction thought, Self-direction action, Stimulation, Hedonism, Achievement, Power dominance, Power resources, Face, Security personal, Security societal, Tradition, Conformity rules, Conformity interpersonal, Humility, Benevolence caring, Benevolence dependability, Universalism concern, Universalism nature, Universalism tolerance, Universalism objectivity\\n Question: Which value category does the argument belong to?\\nAnswer: Universalism concern\\nThe premise: 'factory farming allows for the production of cheap food, which is a necessity for families surviving on a low income.' is 'against'. The conclusion is 'We should ban factory farming'. Value category: Self-direction thought, Self-direction action, Stimulation, Hedonism, Achievement, Power dominance, Power resources, Face, Security personal, Security societal, Tradition, Conformity rules, Conformity interpersonal, Humility, Benevolence caring, Benevolence dependability, Universalism concern, Universalism nature, Universalism tolerance, Universalism objectivity\\n Question: Which value category does the argument belong to?\\nAnswer: \\n\"}"
      ]
     },
     "execution_count": 29,
     "metadata": {},
     "output_type": "execute_result"
    }
   ],
   "source": [
    "from datasets import load_dataset, Dataset, load_from_disk\n",
    "dataset_path = '../datasets/touche23_prompt'\n",
    "dataset = load_from_disk(dataset_path)\n",
    "dataset['train'][7]\n"
   ]
  }
 ],
 "metadata": {
  "kernelspec": {
   "display_name": "base",
   "language": "python",
   "name": "python3"
  },
  "language_info": {
   "codemirror_mode": {
    "name": "ipython",
    "version": 3
   },
   "file_extension": ".py",
   "mimetype": "text/x-python",
   "name": "python",
   "nbconvert_exporter": "python",
   "pygments_lexer": "ipython3",
   "version": "3.10.9"
  },
  "orig_nbformat": 4
 },
 "nbformat": 4,
 "nbformat_minor": 2
}
