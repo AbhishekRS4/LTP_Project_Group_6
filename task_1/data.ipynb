{
 "cells": [
  {
   "cell_type": "code",
   "execution_count": 14,
   "metadata": {},
   "outputs": [],
   "source": [
    "import os\n",
    "import pandas as pd\n",
    "from datasets import load_dataset\n",
    "import ast\n",
    "import random"
   ]
  },
  {
   "attachments": {},
   "cell_type": "markdown",
   "metadata": {},
   "source": [
    "## Load data from local files"
   ]
  },
  {
   "attachments": {},
   "cell_type": "markdown",
   "metadata": {},
   "source": [
    "Data PATH"
   ]
  },
  {
   "cell_type": "code",
   "execution_count": 15,
   "metadata": {},
   "outputs": [],
   "source": [
    "data_dir = os.path.join('dataset')\n",
    "arguments_training_filepath = os.path.join(data_dir, 'arguments-training.tsv')\n",
    "arguments_validation_filepath = os.path.join(data_dir, 'arguments-validation.tsv')\n",
    "arguments_validation_filepath_zhihu = os.path.join(data_dir, 'arguments-validation-zhihu.tsv')\n",
    "arguments_test_filepath = os.path.join(data_dir, 'arguments-test.tsv')\n",
    "\n",
    "labels_training_filepath = os.path.join(data_dir, 'labels-training.tsv')\n",
    "labels_validation_filepath = os.path.join(data_dir, 'labels-validation.tsv')\n",
    "labels_validation_filepath_zhihu = os.path.join(data_dir, 'labels-validation-zhihu.tsv')\n",
    "labels_test_filepath = os.path.join(data_dir, 'labels-test.tsv')"
   ]
  },
  {
   "attachments": {},
   "cell_type": "markdown",
   "metadata": {},
   "source": [
    "Load the data"
   ]
  },
  {
   "cell_type": "code",
   "execution_count": 16,
   "metadata": {},
   "outputs": [
    {
     "name": "stdout",
     "output_type": "stream",
     "text": [
      "Argument ID                                               A01001\n",
      "Conclusion                        Entrapment should be legalized\n",
      "Stance                                               in favor of\n",
      "Premise        if entrapment can serve to more easily capture...\n",
      "Name: 0, dtype: object \n",
      " Argument ID                   A01001\n",
      "Self-direction: thought            0\n",
      "Self-direction: action             0\n",
      "Stimulation                        0\n",
      "Hedonism                           0\n",
      "Achievement                        0\n",
      "Power: dominance                   0\n",
      "Power: resources                   0\n",
      "Face                               0\n",
      "Security: personal                 0\n",
      "Security: societal                 1\n",
      "Tradition                          0\n",
      "Conformity: rules                  0\n",
      "Conformity: interpersonal          0\n",
      "Humility                           0\n",
      "Benevolence: caring                0\n",
      "Benevolence: dependability         0\n",
      "Universalism: concern              0\n",
      "Universalism: nature               0\n",
      "Universalism: tolerance            0\n",
      "Universalism: objectivity          0\n",
      "Name: 0, dtype: object\n"
     ]
    }
   ],
   "source": [
    "arguments_training = pd.read_csv(arguments_training_filepath, encoding='utf-8', sep='\\t', header=0)\n",
    "arguments_validation = pd.read_csv(arguments_validation_filepath, encoding='utf-8', sep='\\t', header=0)\n",
    "arguments_validation_zhihu = pd.read_csv(arguments_validation_filepath_zhihu, encoding='utf-8', sep='\\t', header=0)\n",
    "arguments_test = pd.read_csv(arguments_test_filepath, encoding='utf-8', sep='\\t', header=0)\n",
    "\n",
    "\n",
    "labels_training = pd.read_csv(labels_training_filepath, encoding='utf-8', sep='\\t', header=0)\n",
    "labels_validation = pd.read_csv(labels_validation_filepath, encoding='utf-8', sep='\\t', header=0)\n",
    "labels_validation_zhihu = pd.read_csv(labels_validation_filepath_zhihu, encoding='utf-8', sep='\\t', header=0)\n",
    "labels_test = pd.read_csv(labels_test_filepath, encoding='utf-8', sep='\\t', header=0)\n",
    "\n",
    "\n",
    "print(arguments_training.iloc[0], '\\n', labels_training.iloc[0])"
   ]
  },
  {
   "attachments": {},
   "cell_type": "markdown",
   "metadata": {},
   "source": [
    "## Some helper functions"
   ]
  },
  {
   "cell_type": "code",
   "execution_count": 17,
   "metadata": {},
   "outputs": [],
   "source": [
    "LABELS = ['Self-direction thought', 'Self-direction action', 'Stimulation', 'Hedonism', 'Achievement', 'Power dominance', 'Power resources', 'Face', 'Security personal', 'Security societal', 'Tradition', 'Conformity rules', 'Conformity interpersonal', 'Humility', 'Benevolence caring', 'Benevolence dependability', 'Universalism concern', 'Universalism nature', 'Universalism tolerance', 'Universalism objectivity']\n",
    "PROMPT_FORMATS = [\"The premise: '{}' is '{}'. The conclusion is '{}'. Value category: {}\\n Question: Which value category does the argument belong to?\\n\",\n",
    "                  \"Premise: {}\\nStance: {}\\nConclusion: {}. Value category: {}\\n Question: Which value category does the argument belong to?\\n\",\n",
    "                  \"Argument: {}. {}. {}. Value category: {}\\n Question: Which value category does the argument belong to?\\n\"]\n",
    "\n",
    "def convert_binary_labels_to_string(df):\n",
    "    label_names = df.columns[1:]\n",
    "    string_labels = []\n",
    "\n",
    "    for index, row in df.iterrows():\n",
    "        binary_values = row.values[1:]\n",
    "        string_labels.append([label_names[i] for i, value in enumerate(binary_values) if value == 1])\n",
    "\n",
    "    df['String Labels'] = string_labels\n",
    "    return df\n",
    "\n",
    "\"\"\"Create multiple prompts for each argument to see which one works best\"\"\"\n",
    "def ensemble_prompt(df):\n",
    "    prompts = [\n",
    "        [\n",
    "            prompt.format(row['Premise'], row['Stance'], row['Conclusion'], ', '.join(LABELS))\n",
    "            for prompt in PROMPT_FORMATS\n",
    "        ]\n",
    "        for _, row in df.iterrows()\n",
    "    ]\n",
    "\n",
    "    df['ensemble_prompt'] = prompts\n",
    "    return df\n",
    "\n",
    "def few_shot_prompt(df, num_shots=1, prompt_format=0, random_seed=42):\n",
    "    \"\"\"Creates a few shot prompt for each argument\"\"\"\n",
    "\n",
    "    prompt_format = PROMPT_FORMATS[prompt_format]\n",
    "    \n",
    "    selected_arguments = df.sample(n=num_shots, random_state=random_seed)\n",
    "    few_shot_prompts = [\n",
    "        prompt_format.format(row['Premise'], row['Stance'], row['Conclusion'], ', '.join(LABELS)) + f\"Answer: {random.choice(LABELS)}\\n\"\n",
    "        for _, row in selected_arguments.iterrows()\n",
    "    ]\n",
    "\n",
    "    df['few_shot_prompt'] = df.apply(lambda row: ''.join(few_shot_prompts) + prompt_format.format(row['Premise'], row['Stance'], row['Conclusion'], ', '.join(LABELS)) + f\"Answer: \\n\", axis=1)\n",
    "    return df\n",
    "\n",
    "def combine_columns(df_arguments, df_labels):\n",
    "    \"\"\"Combines the two `DataFrames` on column `Argument ID`\"\"\"\n",
    "    df_labels = df_labels[['Argument ID', 'String Labels']]\n",
    "    df_labels.columns = ['Argument ID', 'Labels']\n",
    "\n",
    "    return pd.merge(df_arguments, df_labels, on='Argument ID')\n",
    "\n",
    "def labels_to_multi_choice():\n",
    "    \"\"\"Converts the labels to a multi choice format\"\"\"\n",
    "    multi_choice_format = \"{}: {}\"\n",
    "    multi_choice_options = []\n",
    "\n",
    "    for index, label in enumerate(LABELS):\n",
    "        multi_choice_option = multi_choice_format.format(chr(65 + index), label)\n",
    "        multi_choice_options.append(multi_choice_option)\n",
    "\n",
    "    return multi_choice_options\n"
   ]
  },
  {
   "cell_type": "code",
   "execution_count": 32,
   "metadata": {},
   "outputs": [
    {
     "name": "stdout",
     "output_type": "stream",
     "text": [
      "['A: Self-direction thought', 'B: Self-direction action', 'C: Stimulation', 'D: Hedonism', 'E: Achievement', 'F: Power dominance', 'G: Power resources', 'H: Face', 'I: Security personal', 'J: Security societal', 'K: Tradition', 'L: Conformity rules', 'M: Conformity interpersonal', 'N: Humility', 'O: Benevolence caring', 'P: Benevolence dependability', 'Q: Universalism concern', 'R: Universalism nature', 'S: Universalism tolerance', 'T: Universalism objectivity']\n"
     ]
    },
    {
     "data": {
      "text/plain": [
       "[\"The premise: 'if entrapment can serve to more easily capture wanted criminals, then why shouldn't it be legal?' is 'in favor of'. The conclusion is 'Entrapment should be legalized'. Value category: Self-direction thought, Self-direction action, Stimulation, Hedonism, Achievement, Power dominance, Power resources, Face, Security personal, Security societal, Tradition, Conformity rules, Conformity interpersonal, Humility, Benevolence caring, Benevolence dependability, Universalism concern, Universalism nature, Universalism tolerance, Universalism objectivity\\n Question: Which value category does the argument belong to?\\n\",\n",
       " \"Premise: if entrapment can serve to more easily capture wanted criminals, then why shouldn't it be legal?\\nStance: in favor of\\nConclusion: Entrapment should be legalized. Value category: Self-direction thought, Self-direction action, Stimulation, Hedonism, Achievement, Power dominance, Power resources, Face, Security personal, Security societal, Tradition, Conformity rules, Conformity interpersonal, Humility, Benevolence caring, Benevolence dependability, Universalism concern, Universalism nature, Universalism tolerance, Universalism objectivity\\n Question: Which value category does the argument belong to?\\n\",\n",
       " \"Argument: if entrapment can serve to more easily capture wanted criminals, then why shouldn't it be legal?. in favor of. Entrapment should be legalized. Value category: Self-direction thought, Self-direction action, Stimulation, Hedonism, Achievement, Power dominance, Power resources, Face, Security personal, Security societal, Tradition, Conformity rules, Conformity interpersonal, Humility, Benevolence caring, Benevolence dependability, Universalism concern, Universalism nature, Universalism tolerance, Universalism objectivity\\n Question: Which value category does the argument belong to?\\n\"]"
      ]
     },
     "execution_count": 32,
     "metadata": {},
     "output_type": "execute_result"
    }
   ],
   "source": [
    "# Convert the binary labels to string labels and remove the columns 'Argument ID' and 'String Labels'\n",
    "labels = labels_training.columns.unique()\n",
    "labels = [label for label in labels if label != 'Argument ID' and label != 'String Labels']\n",
    "labels = [label.replace(':', '') for label in labels]\n",
    "multi_choice_options = labels_to_multi_choice()\n",
    "print(multi_choice_options)\n",
    "\n",
    "ensemble_prompt_df = ensemble_prompt(arguments_training)\n",
    "ensemble_prompt_df['ensemble_prompt'][0]"
   ]
  },
  {
   "cell_type": "code",
   "execution_count": 33,
   "metadata": {},
   "outputs": [
    {
     "data": {
      "text/plain": [
       "\"The premise: 'the words &quot;he&quot; and &quot;she&quot; are a way of labeling human beings and not everyone feels like they fit into either of these categories. by doing away with gender specific words you will make everyone feel the same.' is 'in favor of'. The conclusion is 'We should adopt gender-neutral language'. Value category: Self-direction thought, Self-direction action, Stimulation, Hedonism, Achievement, Power dominance, Power resources, Face, Security personal, Security societal, Tradition, Conformity rules, Conformity interpersonal, Humility, Benevolence caring, Benevolence dependability, Universalism concern, Universalism nature, Universalism tolerance, Universalism objectivity\\n Question: Which value category does the argument belong to?\\nAnswer: Universalism tolerance\\nThe premise: 'surrogacy is hugely emotionally damaging on the birth mother, and is often only resorted to as a result of financial hardship.' is 'in favor of'. The conclusion is 'Surrogacy should be banned'. Value category: Self-direction thought, Self-direction action, Stimulation, Hedonism, Achievement, Power dominance, Power resources, Face, Security personal, Security societal, Tradition, Conformity rules, Conformity interpersonal, Humility, Benevolence caring, Benevolence dependability, Universalism concern, Universalism nature, Universalism tolerance, Universalism objectivity\\n Question: Which value category does the argument belong to?\\nAnswer: Power resources\\nThe premise: 'if entrapment can serve to more easily capture wanted criminals, then why shouldn't it be legal?' is 'in favor of'. The conclusion is 'Entrapment should be legalized'. Value category: Self-direction thought, Self-direction action, Stimulation, Hedonism, Achievement, Power dominance, Power resources, Face, Security personal, Security societal, Tradition, Conformity rules, Conformity interpersonal, Humility, Benevolence caring, Benevolence dependability, Universalism concern, Universalism nature, Universalism tolerance, Universalism objectivity\\n Question: Which value category does the argument belong to?\\nAnswer: \\n\""
      ]
     },
     "execution_count": 33,
     "metadata": {},
     "output_type": "execute_result"
    }
   ],
   "source": [
    "few_shot_promp_df = few_shot_prompt(arguments_training, num_shots=2, prompt_format=0)\n",
    "few_shot_promp_df['few_shot_prompt'][0]"
   ]
  },
  {
   "cell_type": "code",
   "execution_count": 36,
   "metadata": {},
   "outputs": [
    {
     "data": {
      "text/html": [
       "<div>\n",
       "<style scoped>\n",
       "    .dataframe tbody tr th:only-of-type {\n",
       "        vertical-align: middle;\n",
       "    }\n",
       "\n",
       "    .dataframe tbody tr th {\n",
       "        vertical-align: top;\n",
       "    }\n",
       "\n",
       "    .dataframe thead th {\n",
       "        text-align: right;\n",
       "    }\n",
       "</style>\n",
       "<table border=\"1\" class=\"dataframe\">\n",
       "  <thead>\n",
       "    <tr style=\"text-align: right;\">\n",
       "      <th></th>\n",
       "      <th>Argument ID</th>\n",
       "      <th>Conclusion</th>\n",
       "      <th>Stance</th>\n",
       "      <th>Premise</th>\n",
       "      <th>ensemble_prompt</th>\n",
       "      <th>few_shot_prompt</th>\n",
       "      <th>Labels</th>\n",
       "    </tr>\n",
       "  </thead>\n",
       "  <tbody>\n",
       "    <tr>\n",
       "      <th>0</th>\n",
       "      <td>A01001</td>\n",
       "      <td>Entrapment should be legalized</td>\n",
       "      <td>in favor of</td>\n",
       "      <td>if entrapment can serve to more easily capture...</td>\n",
       "      <td>[The premise: 'if entrapment can serve to more...</td>\n",
       "      <td>The premise: 'the words &amp;quot;he&amp;quot; and &amp;qu...</td>\n",
       "      <td>[Security: societal]</td>\n",
       "    </tr>\n",
       "    <tr>\n",
       "      <th>1</th>\n",
       "      <td>A01002</td>\n",
       "      <td>We should ban human cloning</td>\n",
       "      <td>in favor of</td>\n",
       "      <td>we should ban human cloning as it will only ca...</td>\n",
       "      <td>[The premise: 'we should ban human cloning as ...</td>\n",
       "      <td>The premise: 'the words &amp;quot;he&amp;quot; and &amp;qu...</td>\n",
       "      <td>[Security: societal]</td>\n",
       "    </tr>\n",
       "    <tr>\n",
       "      <th>2</th>\n",
       "      <td>A01003</td>\n",
       "      <td>We should abandon marriage</td>\n",
       "      <td>against</td>\n",
       "      <td>marriage is the ultimate commitment to someone...</td>\n",
       "      <td>[The premise: 'marriage is the ultimate commit...</td>\n",
       "      <td>The premise: 'the words &amp;quot;he&amp;quot; and &amp;qu...</td>\n",
       "      <td>[Self-direction: action]</td>\n",
       "    </tr>\n",
       "    <tr>\n",
       "      <th>3</th>\n",
       "      <td>A01004</td>\n",
       "      <td>We should ban naturopathy</td>\n",
       "      <td>against</td>\n",
       "      <td>it provides a useful income for some people</td>\n",
       "      <td>[The premise: 'it provides a useful income for...</td>\n",
       "      <td>The premise: 'the words &amp;quot;he&amp;quot; and &amp;qu...</td>\n",
       "      <td>[Security: personal]</td>\n",
       "    </tr>\n",
       "    <tr>\n",
       "      <th>4</th>\n",
       "      <td>A01005</td>\n",
       "      <td>We should ban fast food</td>\n",
       "      <td>in favor of</td>\n",
       "      <td>fast food should be banned because it is reall...</td>\n",
       "      <td>[The premise: 'fast food should be banned beca...</td>\n",
       "      <td>The premise: 'the words &amp;quot;he&amp;quot; and &amp;qu...</td>\n",
       "      <td>[Security: personal]</td>\n",
       "    </tr>\n",
       "    <tr>\n",
       "      <th>...</th>\n",
       "      <td>...</td>\n",
       "      <td>...</td>\n",
       "      <td>...</td>\n",
       "      <td>...</td>\n",
       "      <td>...</td>\n",
       "      <td>...</td>\n",
       "      <td>...</td>\n",
       "    </tr>\n",
       "    <tr>\n",
       "      <th>5215</th>\n",
       "      <td>D27096</td>\n",
       "      <td>Nepotism exists in Bollywood</td>\n",
       "      <td>against</td>\n",
       "      <td>Star kids also have an upbringing which is sur...</td>\n",
       "      <td>[The premise: 'Star kids also have an upbringi...</td>\n",
       "      <td>The premise: 'the words &amp;quot;he&amp;quot; and &amp;qu...</td>\n",
       "      <td>[Self-direction: thought, Achievement, Face]</td>\n",
       "    </tr>\n",
       "    <tr>\n",
       "      <th>5216</th>\n",
       "      <td>D27097</td>\n",
       "      <td>Nepotism exists in Bollywood</td>\n",
       "      <td>in favor of</td>\n",
       "      <td>Movie stars of Bollywood often launch their ch...</td>\n",
       "      <td>[The premise: 'Movie stars of Bollywood often ...</td>\n",
       "      <td>The premise: 'the words &amp;quot;he&amp;quot; and &amp;qu...</td>\n",
       "      <td>[Benevolence: caring]</td>\n",
       "    </tr>\n",
       "    <tr>\n",
       "      <th>5217</th>\n",
       "      <td>D27098</td>\n",
       "      <td>India is safe for women</td>\n",
       "      <td>in favor of</td>\n",
       "      <td>Evil historic practices on women in the pre an...</td>\n",
       "      <td>[The premise: 'Evil historic practices on wome...</td>\n",
       "      <td>The premise: 'the words &amp;quot;he&amp;quot; and &amp;qu...</td>\n",
       "      <td>[Security: societal, Universalism: objectivity]</td>\n",
       "    </tr>\n",
       "    <tr>\n",
       "      <th>5218</th>\n",
       "      <td>D27099</td>\n",
       "      <td>India is safe for women</td>\n",
       "      <td>in favor of</td>\n",
       "      <td>Women of our country have been and are achievi...</td>\n",
       "      <td>[The premise: 'Women of our country have been ...</td>\n",
       "      <td>The premise: 'the words &amp;quot;he&amp;quot; and &amp;qu...</td>\n",
       "      <td>[Achievement, Security: societal, Universalism...</td>\n",
       "    </tr>\n",
       "    <tr>\n",
       "      <th>5219</th>\n",
       "      <td>D27100</td>\n",
       "      <td>India is safe for women</td>\n",
       "      <td>against</td>\n",
       "      <td>The National Crime Records Bureau states that ...</td>\n",
       "      <td>[The premise: 'The National Crime Records Bure...</td>\n",
       "      <td>The premise: 'the words &amp;quot;he&amp;quot; and &amp;qu...</td>\n",
       "      <td>[Security: societal, Conformity: rules, Univer...</td>\n",
       "    </tr>\n",
       "  </tbody>\n",
       "</table>\n",
       "<p>5220 rows × 7 columns</p>\n",
       "</div>"
      ],
      "text/plain": [
       "     Argument ID                      Conclusion       Stance  \\\n",
       "0         A01001  Entrapment should be legalized  in favor of   \n",
       "1         A01002     We should ban human cloning  in favor of   \n",
       "2         A01003      We should abandon marriage      against   \n",
       "3         A01004       We should ban naturopathy      against   \n",
       "4         A01005         We should ban fast food  in favor of   \n",
       "...          ...                             ...          ...   \n",
       "5215      D27096    Nepotism exists in Bollywood      against   \n",
       "5216      D27097    Nepotism exists in Bollywood  in favor of   \n",
       "5217      D27098         India is safe for women  in favor of   \n",
       "5218      D27099         India is safe for women  in favor of   \n",
       "5219      D27100         India is safe for women      against   \n",
       "\n",
       "                                                Premise  \\\n",
       "0     if entrapment can serve to more easily capture...   \n",
       "1     we should ban human cloning as it will only ca...   \n",
       "2     marriage is the ultimate commitment to someone...   \n",
       "3           it provides a useful income for some people   \n",
       "4     fast food should be banned because it is reall...   \n",
       "...                                                 ...   \n",
       "5215  Star kids also have an upbringing which is sur...   \n",
       "5216  Movie stars of Bollywood often launch their ch...   \n",
       "5217  Evil historic practices on women in the pre an...   \n",
       "5218  Women of our country have been and are achievi...   \n",
       "5219  The National Crime Records Bureau states that ...   \n",
       "\n",
       "                                        ensemble_prompt  \\\n",
       "0     [The premise: 'if entrapment can serve to more...   \n",
       "1     [The premise: 'we should ban human cloning as ...   \n",
       "2     [The premise: 'marriage is the ultimate commit...   \n",
       "3     [The premise: 'it provides a useful income for...   \n",
       "4     [The premise: 'fast food should be banned beca...   \n",
       "...                                                 ...   \n",
       "5215  [The premise: 'Star kids also have an upbringi...   \n",
       "5216  [The premise: 'Movie stars of Bollywood often ...   \n",
       "5217  [The premise: 'Evil historic practices on wome...   \n",
       "5218  [The premise: 'Women of our country have been ...   \n",
       "5219  [The premise: 'The National Crime Records Bure...   \n",
       "\n",
       "                                        few_shot_prompt  \\\n",
       "0     The premise: 'the words &quot;he&quot; and &qu...   \n",
       "1     The premise: 'the words &quot;he&quot; and &qu...   \n",
       "2     The premise: 'the words &quot;he&quot; and &qu...   \n",
       "3     The premise: 'the words &quot;he&quot; and &qu...   \n",
       "4     The premise: 'the words &quot;he&quot; and &qu...   \n",
       "...                                                 ...   \n",
       "5215  The premise: 'the words &quot;he&quot; and &qu...   \n",
       "5216  The premise: 'the words &quot;he&quot; and &qu...   \n",
       "5217  The premise: 'the words &quot;he&quot; and &qu...   \n",
       "5218  The premise: 'the words &quot;he&quot; and &qu...   \n",
       "5219  The premise: 'the words &quot;he&quot; and &qu...   \n",
       "\n",
       "                                                 Labels  \n",
       "0                                  [Security: societal]  \n",
       "1                                  [Security: societal]  \n",
       "2                              [Self-direction: action]  \n",
       "3                                  [Security: personal]  \n",
       "4                                  [Security: personal]  \n",
       "...                                                 ...  \n",
       "5215       [Self-direction: thought, Achievement, Face]  \n",
       "5216                              [Benevolence: caring]  \n",
       "5217    [Security: societal, Universalism: objectivity]  \n",
       "5218  [Achievement, Security: societal, Universalism...  \n",
       "5219  [Security: societal, Conformity: rules, Univer...  \n",
       "\n",
       "[5220 rows x 7 columns]"
      ]
     },
     "execution_count": 36,
     "metadata": {},
     "output_type": "execute_result"
    }
   ],
   "source": [
    "converted_labels = convert_binary_labels_to_string(labels_training)\n",
    "few_shot_promp_df = combine_columns(arguments_training, converted_labels)\n",
    "\n",
    "# arguments_training['Prompt'].iloc[0]\n",
    "few_shot_promp_df"
   ]
  },
  {
   "attachments": {},
   "cell_type": "markdown",
   "metadata": {},
   "source": [
    "Combine the arguments and string labels into df"
   ]
  },
  {
   "cell_type": "code",
   "execution_count": null,
   "metadata": {},
   "outputs": [],
   "source": [
    "training_arg_labels.head()"
   ]
  },
  {
   "attachments": {},
   "cell_type": "markdown",
   "metadata": {},
   "source": [
    "## Load the data from disk"
   ]
  },
  {
   "cell_type": "code",
   "execution_count": null,
   "metadata": {},
   "outputs": [],
   "source": [
    "from datasets import load_dataset, Dataset, load_from_disk\n",
    "dataset_path = 'dataset/processed/touche23'\n",
    "dataset = load_from_disk(dataset_path)\n",
    "train = dataset['train']\n",
    "train[0]"
   ]
  },
  {
   "attachments": {},
   "cell_type": "markdown",
   "metadata": {},
   "source": [
    "## Setup the model"
   ]
  },
  {
   "cell_type": "code",
   "execution_count": null,
   "metadata": {},
   "outputs": [],
   "source": [
    "from transformers import AutoTokenizer, AutoModelForSeq2SeqLM\n",
    "\n",
    "tokenizer = AutoTokenizer.from_pretrained(\"google/flan-t5-base\")\n",
    "model = AutoModelForSeq2SeqLM.from_pretrained(\"google/flan-t5-base\")"
   ]
  },
  {
   "attachments": {},
   "cell_type": "markdown",
   "metadata": {},
   "source": [
    "## Select 10 random samples "
   ]
  },
  {
   "cell_type": "code",
   "execution_count": null,
   "metadata": {},
   "outputs": [],
   "source": []
  },
  {
   "cell_type": "code",
   "execution_count": null,
   "metadata": {},
   "outputs": [],
   "source": [
    "test_arguments = training_arg_labels.sample(10)\n",
    "test_arguments['Prompt'].iloc[0]"
   ]
  },
  {
   "attachments": {},
   "cell_type": "markdown",
   "metadata": {},
   "source": [
    "## Zero-shot Prompting"
   ]
  },
  {
   "cell_type": "code",
   "execution_count": null,
   "metadata": {},
   "outputs": [],
   "source": [
    "def query_from_list(query, options):\n",
    "    # t5query = f\"\"\"Classify the following argument into  \"{options}\". Context: \"{query}\"\"\"\n",
    "    t5query = f\"\"\"Classify whether the argument, with the conclusion \"{query}\", draws on the value categories of {options}.\"\"\"\n",
    "    print(t5query)\n",
    "    inputs = tokenizer(t5query, return_tensors=\"pt\")\n",
    "    outputs = model.generate(**inputs, max_new_tokens=20)\n",
    "    return tokenizer.batch_decode(outputs, skip_special_tokens=True)\n",
    "\n",
    "for index, row in test_arguments.iterrows():\n",
    "    result = query_from_list([row['Conclusion']], labels)\n",
    "    print(f\"{row['Prompt']:<24} \\n Prediction: {result[0]}\\n True Label: {row['Labels']}\\n\")\n",
    "    # break"
   ]
  },
  {
   "attachments": {},
   "cell_type": "markdown",
   "metadata": {},
   "source": [
    "## Few-shot classification promt"
   ]
  },
  {
   "cell_type": "code",
   "execution_count": null,
   "metadata": {},
   "outputs": [],
   "source": [
    "def query_from_list(query, options):\n",
    "    t5query = f\"\"\"Classify the following argument into  \"{options}\". Context: \"The premise \"wikipedia would be more accurate if it was subsidized.\" is \"in favor of\" and the conclusion is \"We should subsidize Wikipedia\". Answer: ['Achievement', 'Benevolence: caring']\\n Classify the following argument into  \"{options}\". Context: \"{query}. Answer: \"\"\"\n",
    "    print(t5query)\n",
    "    # t5query = f\"\"\"Classify the following argument into  \"{options}\". Context: \"{query}. Answer:\"\"\"\n",
    "    # print(t5query)\n",
    "    inputs = tokenizer(t5query, return_tensors=\"pt\")\n",
    "    outputs = model.generate(**inputs, max_new_tokens=30)\n",
    "    return tokenizer.batch_decode(outputs, skip_special_tokens=True)\n",
    "test_arguments_1 = test_arguments[1:]\n",
    "for index, row in test_arguments_1.iterrows():\n",
    "    result = query_from_list(row['Prompt'], labels)\n",
    "    print(f\"{row['Prompt']:<24} \\n Prediction: {result[0]}\\n True Label: {row['Labels']}\\n\")\n",
    "    break"
   ]
  },
  {
   "attachments": {},
   "cell_type": "markdown",
   "metadata": {},
   "source": [
    "## Zero-shot classification with single label"
   ]
  },
  {
   "cell_type": "code",
   "execution_count": null,
   "metadata": {},
   "outputs": [],
   "source": [
    "def query_from_list(query, options):\n",
    "    # t5query = f\"\"\"Given the argument with the conclusion '{query['Conclusion']}', stance '{query['Stance']}', and premise '{query['Premise']}', classify whether it draws on the value category of {options}. Answer: yes or no\"\"\"\n",
    "    t5query = f\"\"\"Argument: {query['Prompt']}\\n Prompt: Classify whether the argument draws on the {options} value category. Answer: Yes or No\"\"\"\n",
    "    # print(t5query)\n",
    "    inputs = tokenizer(t5query, return_tensors=\"pt\")\n",
    "    outputs = model.generate(**inputs, max_new_tokens=30)\n",
    "    return tokenizer.batch_decode(outputs, skip_special_tokens=True)\n",
    "\n",
    "for label in labels:\n",
    "    result = query_from_list(test_arguments.iloc[0], label)\n",
    "    print(f\"{label} \\n Prediction: {result[0]}\\n True Label: {test_arguments.iloc[0]['Labels']}\\n\")\n",
    "    # break"
   ]
  }
 ],
 "metadata": {
  "kernelspec": {
   "display_name": "base",
   "language": "python",
   "name": "python3"
  },
  "language_info": {
   "codemirror_mode": {
    "name": "ipython",
    "version": 3
   },
   "file_extension": ".py",
   "mimetype": "text/x-python",
   "name": "python",
   "nbconvert_exporter": "python",
   "pygments_lexer": "ipython3",
   "version": "3.10.9"
  },
  "orig_nbformat": 4
 },
 "nbformat": 4,
 "nbformat_minor": 2
}
