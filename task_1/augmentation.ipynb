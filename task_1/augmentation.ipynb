{
 "cells": [
  {
   "attachments": {},
   "cell_type": "markdown",
   "metadata": {},
   "source": [
    "Doel: Verschillende datasets adhv prompts en augmentation in HuggingFace stijl."
   ]
  },
  {
   "attachments": {},
   "cell_type": "markdown",
   "metadata": {},
   "source": [
    "# Load training data"
   ]
  },
  {
   "cell_type": "code",
   "execution_count": 1,
   "metadata": {},
   "outputs": [],
   "source": [
    "import os\n",
    "import pandas as pd\n",
    "\n",
    "data_dir = os.path.join('task_1/dataset')\n",
    "arguments_training_filepath = os.path.join(data_dir, 'arguments-training.tsv')\n",
    "labels_training_filepath = os.path.join(data_dir, 'labels-training.tsv')\n",
    "arguments_training = pd.read_csv(arguments_training_filepath, encoding='utf-8', sep='\\t', header=0)\n",
    "labels_training = pd.read_csv(labels_training_filepath, encoding='utf-8', sep='\\t', header=0)\n"
   ]
  },
  {
   "cell_type": "code",
   "execution_count": 2,
   "metadata": {},
   "outputs": [
    {
     "name": "stdout",
     "output_type": "stream",
     "text": [
      "Number of Self-direction: thought: 913\n",
      "Number of Self-direction: action: 1332\n",
      "Number of Stimulation: 312\n",
      "Number of Hedonism: 202\n",
      "Number of Achievement: 1400\n",
      "Number of Power: dominance: 461\n",
      "Number of Power: resources: 566\n",
      "Number of Face: 374\n",
      "Number of Security: personal: 1961\n",
      "Number of Security: societal: 1627\n",
      "Number of Tradition: 598\n",
      "Number of Conformity: rules: 1222\n",
      "Number of Conformity: interpersonal: 217\n",
      "Number of Humility: 438\n",
      "Number of Benevolence: caring: 1500\n",
      "Number of Benevolence: dependability: 766\n",
      "Number of Universalism: concern: 1992\n",
      "Number of Universalism: nature: 358\n",
      "Number of Universalism: tolerance: 709\n",
      "Number of Universalism: objectivity: 937\n"
     ]
    }
   ],
   "source": [
    "label_occurences = {}\n",
    "\n",
    "for label in labels_training:\n",
    "    if label != \"Argument ID\":\n",
    "        number_of_occurences = labels_training[label].value_counts()[1]\n",
    "        label_occurences[label] = number_of_occurences\n",
    "        print(f\"Number of {label}: {number_of_occurences}\")"
   ]
  },
  {
   "attachments": {},
   "cell_type": "markdown",
   "metadata": {},
   "source": [
    "Three methods, so to input each sentence into all methods once and create class balance, you need three times the largest class number  (3*1992=5976) of instances per class."
   ]
  },
  {
   "cell_type": "code",
   "execution_count": 3,
   "metadata": {},
   "outputs": [],
   "source": [
    "NUMBER_OF_CLASS_INSTANCES = 5976\n",
    "\n",
    "required_label_occurences = {}\n",
    "for item in label_occurences:\n",
    "    required_label_occurences[item] = NUMBER_OF_CLASS_INSTANCES - label_occurences[item]"
   ]
  },
  {
   "attachments": {},
   "cell_type": "markdown",
   "metadata": {},
   "source": [
    "# Paraphrasing"
   ]
  },
  {
   "attachments": {},
   "cell_type": "markdown",
   "metadata": {},
   "source": [
    "### LM based"
   ]
  },
  {
   "cell_type": "code",
   "execution_count": 4,
   "metadata": {},
   "outputs": [],
   "source": [
    "from transformers import AutoTokenizer, AutoModelForSeq2SeqLM\n",
    "\n",
    "tokenizer = AutoTokenizer.from_pretrained(\"prithivida/parrot_paraphraser_on_T5\")  \n",
    "model = AutoModelForSeq2SeqLM.from_pretrained(\"prithivida/parrot_paraphraser_on_T5\")"
   ]
  },
  {
   "cell_type": "code",
   "execution_count": 11,
   "metadata": {},
   "outputs": [
    {
     "name": "stdout",
     "output_type": "stream",
     "text": [
      "Self-direction: thought\n",
      "The conclusion In this country we need to legalize polygamy. in favor of is against premise:if people agree to a polygamous relationship with one another the state should not block them from doing so.\n",
      "Self-direction: action\n",
      "The conclusion We should end flag burning. against is against premise:it's really just a gesture of anger towards another country that doesn't lead to anything other than being a symbol of feelings.\n",
      "Stimulation\n",
      "The conclusion We should abolish Olympic games. against is against premise:we should not abolish the Olympics because they are a form of entertainment for many people.\n",
      "Hedonism\n",
      "The conclusion Social media causes more harm than good in favor of is against premise:social media makes it difficult to interact face to face.\n",
      "Achievement\n",
      "The conclusion Homeschooling should be banned. against is against premise:education in the home is equal or better than in schools.\n",
      "Power: dominance\n",
      "The conclusion We should abolish the three strike laws. in favor of is against premise:laws that let judges use discretion but keep the leniency of a person in prison could result in life sentences if he had a criminal history that must be dismissed.flecks of such\n",
      "Power: resources\n",
      "The conclusion We should adopt an austerity regime. against is against premise:austerity regimes can cause widespread unemployment\n",
      "Face\n",
      "The conclusion Holocaust denial should be a criminal offence. in favor of is against premise:holocaust denial is a preposterous denial of documented facts and is the seed of more dangerous opinions and actions that permit anti-semitism to fester and spread\n",
      "Security: personal\n",
      "The conclusion We should abolish the right to keep and bear arms. in favor of is against premise:We should abolish the right to keep and bear arms to prevent unnecessary deaths.\n",
      "Security: societal\n",
      "The conclusion We should stop women from combating for men. in favor of is against premise:we should also prohibit women from fighting because they should be home with their families.\n",
      "Tradition\n",
      "The conclusion We should oppose collectivism. in favor of is against premise:collectivism does more harm than good because isolating individuals is not appropriate and they should be important as individuals and not as part of a group.\n",
      "Conformity: rules\n",
      "The conclusion Homeschooling should be banned. against is against premise:homeschooling may be beneficial for children if they are bullied.\n",
      "Conformity: interpersonal\n",
      "The conclusion Holocaust denial should be a criminal offense. in favor of is against premise:denying the holocaust is an insult to those who survived it, those who have family affected by it and those who continue to suffer the effects of it today.\n",
      "Humility\n",
      "The conclusion Should we ban targeted killing? in favor of is against premise:a compulsion to kill is barbaric and can't be done without the consent of the government.\n",
      "Benevolence: caring\n",
      "The conclusion We should stop the development of autonomous cars. against is against premise:in the future autonomous cars will help prevent the need for a car crash.\n",
      "Benevolence: dependability\n",
      "The conclusion We should close Guantanamo Bay detention camp against is against premise:Guantanamo is far more secure than most prisons preventing the worst criminals from escaping.\n",
      "Universalism: concern\n",
      "The conclusion We should end the use of economic sanctions. against is against premise:if there's something wrong with a government like apartheid we shouldn't trade with them since this supports that behaviour.\n",
      "Universalism: nature\n",
      "The conclusion We should ban cosmetic surgery. in favor of is against premise:we propagate unnatural and unattainable beauty norms by fueling an industry that is for those who can afford it, to look as close as possible to perfection.\n",
      "Universalism: tolerance\n",
      "The conclusion We should legalize polygamy. in favor of is against premise:polygamy in itself does not harm anyone or have an impact on the wider community.\n",
      "Universalism: objectivity\n",
      "The conclusion We shouldn't subvention Wikipedia. against is against premise:we shouldn't subsidise Wikipedia because wikipedia pages are created by a user and aren't always accurate\n"
     ]
    }
   ],
   "source": [
    "import random\n",
    "\n",
    "print(\"LM\")\n",
    "\n",
    "complete_dataframe = pd.DataFrame()\n",
    "\n",
    "# create a sample of a third of the required instances for augmentation\n",
    "for label in required_label_occurences:\n",
    "    print(label)\n",
    "    to_create = round(required_label_occurences[label]/3)\n",
    "    index_list = labels_training.index[labels_training[label] == 1].to_list()\n",
    "    subset_df = arguments_training.loc[index_list]\n",
    "    extended_df_ML = subset_df.sample(n=to_create, replace=True)\n",
    "\n",
    "    # print(extended_df_ML)\n",
    "    # LM based\n",
    "    for _, row in extended_df_ML.iterrows():\n",
    "        full_text = \"The conclusion \" + row['Conclusion'] + \" \" + row[\"Stance\"] + \" is against premise:\" + row[\"Premise\"]\n",
    "        conclusion = \"paraphrase: \" + row['Conclusion']\n",
    "        conclusion_encoding = tokenizer.encode_plus(conclusion,padding=True, return_tensors=\"pt\")\n",
    "        conclusion_input_ids, conclusion_attention_masks = conclusion_encoding[\"input_ids\"], conclusion_encoding[\"attention_mask\"]\n",
    "        conclusion_outputs = model.generate(\n",
    "            input_ids=conclusion_input_ids, attention_mask=conclusion_attention_masks,\n",
    "            max_length=256,\n",
    "            do_sample=True,\n",
    "            top_k=120,\n",
    "            top_p=0.95,\n",
    "            early_stopping=True,\n",
    "            num_return_sequences=5\n",
    "        )\n",
    "        paraphrased_conclusion = tokenizer.decode(conclusion_outputs[random.randint(0, 4)], skip_special_tokens=True,clean_up_tokenization_spaces=True)\n",
    "\n",
    "        premise = \"paraphrase: \" + row['Premise'] \n",
    "        premise_encoding = tokenizer.encode_plus(premise,padding=True, return_tensors=\"pt\")\n",
    "        premise_input_ids, premise_attention_masks = premise_encoding[\"input_ids\"], premise_encoding[\"attention_mask\"]\n",
    "\n",
    "        premise_outputs = model.generate(\n",
    "            input_ids=premise_input_ids, attention_mask=premise_attention_masks,\n",
    "            max_length=256,\n",
    "            do_sample=True,\n",
    "            top_k=120,\n",
    "            top_p=0.9,\n",
    "            early_stopping=True,\n",
    "            num_return_sequences=5\n",
    "        )\n",
    "        paraphrased_premise = tokenizer.decode(premise_outputs[random.randint(0, 4)], skip_special_tokens=True,clean_up_tokenization_spaces=True)\n",
    "        \n",
    "        row['Conclusion'] = paraphrased_conclusion\n",
    "        row['Premise'] = paraphrased_premise\n",
    "        print(\"The conclusion \" + row['Conclusion'] + \" \" + row[\"Stance\"] + \" is against premise:\" + row[\"Premise\"])\n",
    "\n",
    "    # merge augmented and normal df together\n",
    "    complete_dataframe = pd.concat([complete_dataframe, extended_df_ML])\n",
    "\n",
    "complete_dataframe.to_csv(\"LM.csv\")"
   ]
  },
  {
   "attachments": {},
   "cell_type": "markdown",
   "metadata": {},
   "source": [
    "### Thesaurus based"
   ]
  },
  {
   "cell_type": "code",
   "execution_count": 23,
   "metadata": {},
   "outputs": [
    {
     "name": "stdout",
     "output_type": "stream",
     "text": [
      "thesaurus\n",
      "Self-direction: thought\n",
      "Self-direction: action\n",
      "Stimulation\n",
      "Hedonism\n",
      "Achievement\n",
      "Power: dominance\n",
      "Power: resources\n"
     ]
    },
    {
     "name": "stderr",
     "output_type": "stream",
     "text": [
      "[nltk_data] Downloading package omw-1.4 to\n",
      "[nltk_data]     /Users/barberademol/nltk_data...\n",
      "[nltk_data]   Package omw-1.4 is already up-to-date!\n"
     ]
    },
    {
     "name": "stdout",
     "output_type": "stream",
     "text": [
      "Face\n",
      "Security: personal\n",
      "Security: societal\n",
      "Tradition\n",
      "Conformity: rules\n",
      "Conformity: interpersonal\n",
      "Humility\n",
      "Benevolence: caring\n",
      "Benevolence: dependability\n",
      "Universalism: concern\n",
      "Universalism: nature\n",
      "Universalism: tolerance\n",
      "Universalism: objectivity\n"
     ]
    }
   ],
   "source": [
    "from textattack.augmentation import WordNetAugmenter\n",
    "\n",
    "print(\"thesaurus\")\n",
    "\n",
    "wordnet_aug = WordNetAugmenter(pct_words_to_swap=0.3, high_yield=False)\n",
    "\n",
    "complete_dataframe = pd.DataFrame()\n",
    "\n",
    "for label in required_label_occurences:\n",
    "    print(label)\n",
    "    to_create = round(required_label_occurences[label]/3)\n",
    "    index_list = labels_training.index[labels_training[label] == 1].to_list()\n",
    "    subset_df = arguments_training.loc[index_list]\n",
    "    extended_df_TH = subset_df.sample(n=to_create, replace=True)\n",
    "\n",
    "    for _, row in extended_df_TH.iterrows():\n",
    "        full_text = \"The conclusion \" + row['Conclusion'] + \" \" + row[\"Stance\"] + \" is against premise:\" + row[\"Premise\"]\n",
    "        # augmented_full = wordnet_aug.augment(full_text)\n",
    "        augmented_premise = wordnet_aug.augment(row[\"Premise\"])\n",
    "        augmented_conclusion = wordnet_aug.augment(row['Conclusion'])\n",
    "        # print(full_text)\n",
    "        # print(augmented_full)\n",
    "        row['Conclusion'] = augmented_conclusion[0]\n",
    "        row['Premise'] = augmented_premise[0]\n",
    "        augmented_text = \"The conclusion \" + row['Conclusion'] + \" \" + row[\"Stance\"] + \" is against premise:\" + row[\"Premise\"]\n",
    "        # print(augmented_text)\n",
    "\n",
    "    # merge augmented and normal df together\n",
    "    complete_dataframe = pd.concat([complete_dataframe, extended_df_ML])\n",
    "\n",
    "complete_dataframe.to_csv(\"thesaurus.csv\")"
   ]
  },
  {
   "attachments": {},
   "cell_type": "markdown",
   "metadata": {},
   "source": [
    "# Noising"
   ]
  },
  {
   "cell_type": "code",
   "execution_count": 26,
   "metadata": {},
   "outputs": [
    {
     "name": "stdout",
     "output_type": "stream",
     "text": [
      "noise\n",
      "label\n",
      "The conclusion Entrapment should be legalized in favor of is against premise:entrapment is sometimes the only way to catch someone\n",
      "The conclusion should be legalized in favor of is against premise:entrapment is sometimes the only way catch someone\n"
     ]
    },
    {
     "name": "stderr",
     "output_type": "stream",
     "text": [
      "[nltk_data] Downloading package omw-1.4 to\n",
      "[nltk_data]     /Users/barberademol/nltk_data...\n",
      "[nltk_data]   Package omw-1.4 is already up-to-date!\n"
     ]
    },
    {
     "name": "stdout",
     "output_type": "stream",
     "text": [
      "The conclusion We should adopt a zero-tolerance policy in schools against is against premise:students should be able to state their opinions and by so learn to mature.  by punishing at first sign of disobedience we are just have conformity not learning.\n",
      "The conclusion We adopt should a zero-tolerance policy in schools against is against premise:students should be able to state their State opinions and by so learn to mature.  by punishing at first sign of disobedience bless we are just have equal conformity not learning.\n",
      "The conclusion Censorship of movies is an outdated concept in favor of is against premise:Through censorship, money power will rule society. It's a fact that rich people influence politics.\n",
      "The conclusion AN Censorship of movies is an outdated concept in favor of is against premise:Through censorship, fact power will that society. It's a money rule rich people influence politics.\n",
      "The conclusion Homeopathy brings more harm than good against is against premise:homeopathy provides symptom relief without many of the side effects that are common with mainstream medications.\n",
      "The conclusion Homeopathy wreak more harm than good against is against premise:homeopathy provides symptom relief without many of the side medications that common are with mainstream effects.\n",
      "The conclusion We should adopt a multi-party system in favor of is against premise:multi-party systems offer voters more choices and more representation.\n",
      "The conclusion We should system a multi-party adopt in favor of is against premise:multi-party organisation offer voters more choices and more representation.\n",
      "The conclusion We should prohibit school prayer against is against premise:prayer is a healing and spiritual experience for many people and they should be allowed to practice it anywhere they wish\n",
      "The conclusion We should prohibit prayer against is against premise:prayer is a healing and spiritual experience for people and they should to practice anywhere they wish\n",
      "The conclusion We should ban the Church of Scientology in favor of is against premise:the church of scientology is nothing more then a cult that brachurch of scientologyinwashes people.\n",
      "The conclusion We should prohibition the Church of Scientology in favor of is against premise:the church of scientology is more then a cult that of people.\n",
      "The conclusion We should abandon television in favor of is against premise:we should abandon television it projects dangerous norms of beauty and success, and time can be better spent not looking at a screen\n",
      "The conclusion We desert should abandon television in favor of is against premise:we should abandon television it projects dangerous norms of beauty and beryllium success, and time can be better spent not IT looking at a screen\n",
      "The conclusion We should abandon television against is against premise:Television provides information to those who can not get out of their environment.\n",
      "The conclusion should We abandon television against is against premise:Television provides information to those who can stern not get out of their environment.\n",
      "The conclusion We should ban telemarketing in favor of is against premise:telemarketing is too often a waste of time.  in an age where most people have ways to see who is calling, the calls rarely, if ever, actually get through.  it's time to find a new way.\n",
      "The conclusion We ban should telemarketing in favor of is against premise:telemarketing is too often waste of time.  in age where people have ways to see who is, rarely, if ever, actually get through.  it's to find a new way.\n",
      "The conclusion We should adopt libertarianism in favor of is against premise:libertarianism allows the expression of free will and would make society more interesting by allowing people to be as they truly are.\n",
      "The conclusion should adopt libertarianism in favor of is against premise:libertarianism allows the expression of free will and make society more interesting allowing to be as they are.\n",
      "The conclusion We should abolish safe spaces against is against premise:safe spaces are important for those who do not feel included or feel threatened\n",
      "The conclusion We should abolish spaces safe against is against premise:safe ar spaces are important for those who do not feel included or feel threatened\n",
      "The conclusion We should ban the Church of Scientology in favor of is against premise:Church of Scientology is a brainwashing organization that has no substance and does no good for other people\n",
      "The conclusion We should ban the Church of Scientology in favor of is against premise:Church of Scientology is a brainwashing organization that has system no honest substance and does no good for other people\n",
      "The conclusion We should ban human cloning against is against premise:human cloning can give us medical breakthroughs\n",
      "The conclusion should ban human cloning against is against premise:human cloning can hold us medical breakthroughs\n",
      "The conclusion We should cancel pride parades in favor of is against premise:people dont want to have gay people thrown in their face if they dont approve of them\n",
      "The conclusion should cancel pride parades in favor of is against premise:if dont want to have people gay thrown in their face people they dont approve of them\n",
      "The conclusion We should abandon television against is against premise:television still serves an important role of keeping people informed about the world.\n",
      "The conclusion We abandon television against is against premise:television still serves people important role of keeping an informed about the world.\n",
      "The conclusion We should cancel pride parades against is against premise:people have right to express themselves and raise awareness of different sexual orientations.\n",
      "The conclusion We should cancel pride troop against is against premise:people have intimate right to express themselves and raise awareness of different sexual orientations.\n",
      "The conclusion We should subsidize embryonic stem cell research in favor of is against premise:embryonic stem cell research  can lead to new cures for diseases.\n",
      "The conclusion We should subsidize embryonic fore cell research in favor of is against premise:embryonic stem cell research  can lead to new cures for disease diseases.\n",
      "The conclusion Holocaust denial should be a criminal offence against is against premise:people have freedom of speech, and ignorance does not equal a criminal offense. if that was true, too many people would be criminals based on the amoint of ignorance out there.\n",
      "The conclusion Holocaust demurrer should be a criminal offence against is against premise:people have freedom of speech, ignorance does not a offense. if that was true, too people would be criminals based the amoint of out there.\n",
      "The conclusion We should subsidize journalism in favor of is against premise:journalism is more important than ever in an era of fake news and social media.\n",
      "The conclusion We should subsidize subsidise journalism in favor of is against premise:journalism is more important than ever always in an crucial era of fake news and social media.\n",
      "The conclusion We should ban the Church of Scientology in favor of is against premise:they are nothing but a cult and manipulate their members\n",
      "The conclusion We should prohibition the Church of Scientology in favor of is against premise:they are and but a cult nothing manipulate their members\n",
      "The conclusion We should abolish zoos against is against premise:zoos are great educational tools, and it is also a safe place to take care of endangered species.\n",
      "The conclusion We abolish should zoos against is against premise:zoos nifty are great educational tools, and it comprise is also a safe place to take care of endangered species.\n",
      "The conclusion Social media brings more harm than good in favor of is against premise:social media allows predators into your home and skews mindsets.\n",
      "The conclusion Social media brings more good than harm in favor of is against premise:mixer media allows predators into your family and skews mindsets.\n",
      "The conclusion We should ban the Church of Scientology against is against premise:we should not ban the church of scientology as people have the right to support any religion they choose and the church contributes money to good causes.\n",
      "The conclusion We should ban the of Scientology against is against premise:we should not censor the church of scientology as people have the right-hand to stomach any religion they choose and the church contributes money to upright get.\n",
      "The conclusion We should ban the use of child actors against is against premise:we must not prohibit the use of child actors because it goes against the right to work. children under the supervision of their parents can develop their artistic talent without affecting their personal growth\n",
      "The conclusion We worker should ban the use of child actors against is against premise:must not prohibit use of child actors because it goes against the right work. children under supervision of parents can develop artistic talent without affecting their personal growth\n",
      "The conclusion We should abandon television against is against premise:television is an important and loved form of entertainment and source of information that is endlessly creative and has much untapped potential for art and entertainment.\n",
      "The conclusion We abandon should television against is against premise:television is an crucial and enjoy frame of entertainment and seed of information that is ceaselessly creative and has much untapped potential for art and entertainment.\n",
      "The conclusion Homeschooling should be banned against is against premise:homeschooling has proven beneficial for many children\n",
      "The conclusion Homeschooling should be  against is against premise:homeschooling has bear proven beneficial for many children\n",
      "The conclusion Homeopathy brings more harm than good against is against premise:homeopathy provides symptom relief without many of the side effects that are common with mainstream medications.\n",
      "The conclusion brings more harm than good against is against premise:homeopathy provides that relief without many of the side effects with are common symptom mainstream medications.\n",
      "The conclusion We should abolish intellectual property rights against is against premise:having intellectual property rights is a deterrent for those that would steal another persons ideas and creations so we must not abolish that.\n",
      "The conclusion We should abolish intellectual holding rights against is against premise:that intellectual property rights is a deterrent for would that those steal another persons ideas and creations so we must not abolish having.\n",
      "The conclusion We should introduce compulsory voting against is against premise:forcing people to vote or face a penalty is what a dictatorship sounds like.   compulsory voting is a bad idea.   i don't believe it would change the results anyways.\n",
      "The conclusion We should precede compulsory voting against is against premise:forcing people to vote or typeface a penalty is what a dictatorship fathom wish.   compulsory voting is a bad thought.   i don't believe it would change the lead anyways.\n",
      "The conclusion The vow of celibacy should be abandoned in favor of is against premise:this is an outdated practice that has no bearing in todays world.\n",
      "The conclusion vow of celibacy should be abandoned in favor of is against premise:this is an practice that has no in todays world.\n",
      "The conclusion We should abandon television in favor of is against premise:we should abandon television because it contributes to the laziness and dumbing down of society.\n",
      "The conclusion We should abandon  in favor of is against premise:we should abandon because it contributes to and dumbing down of society.\n",
      "The conclusion We should adopt libertarianism in favor of is against premise:libertarianism allows people to make their own choices without government interference.\n",
      "The conclusion We should embrace adopt libertarianism in favor of is against premise:libertarianism allows people to make their without choices own government interference.\n",
      "The conclusion We should subsidize journalism against is against premise:we should not subsidize journalism as they are private companies and can raise tons of money without our fear of bad reporting because their company would tank if they reported bad news.\n",
      "The conclusion We subsidize journalism against is against premise:we they not subsidize journalism as should are private companies and can raise tons of news without our fear of would reporting because their company bad tank if they reported bad money.\n",
      "The conclusion We should adopt libertarianism against is against premise:libertarianism should not be adopted as it will give too much power to businesses and rich people to do whatever they want.\n",
      "The conclusion We should follow libertarianism against is against premise:libertarianism IT should not be adopted as it will give too coiffe much power to businesses and rich people to do whatever they want.\n",
      "The conclusion Holocaust denial should be a criminal offence against is against premise:holocaust denial is a is a form of free speech, and is thus protected by the first amendment.\n",
      "The conclusion Holocaust denial be a criminal offence against is against premise:holocaust denial is a is a signifier of spare words, and is thus protected by the first amendment.\n",
      "The conclusion We should adopt libertarianism in favor of is against premise:libertarianism removes the big brother tyranny of big government and allows more freedom for the people\n",
      "The conclusion We should adopt  in favor of is against premise:libertarianism removes the big brother tyranny freedom and government big allows more of for the people\n",
      "The conclusion We should prohibit school prayer in favor of is against premise:enforced prayer sessions in schools indoctrinate children into regressive belief systems and limit their ability to think independently for themselves and so should be removed from all schooling\n",
      "The conclusion We veto should prohibit school prayer in favor of is against premise:and prayer sessions in schools indoctrinate children into regressive think systems and limit their ability to belief independently for themselves enforced so should schooling removed from all be\n",
      "The conclusion We should subsidize Wikipedia against is against premise:if the government gives wikipedia funds, wikipedia would be obligated to lean to their agenda\n",
      "The conclusion We should subsidise Wikipedia against is against premise:if the government gives wikipedia funds, would be obligated to to agenda\n",
      "The conclusion We should prohibit school prayer in favor of is against premise:prayer should be not done in school, children are in school to learn\n",
      "The conclusion should prohibit school prayer in favor of is against premise:prayer should be not done comprise in school, children are in school to learn\n",
      "The conclusion Social media brings more harm than good against is against premise:social media did not brings more harm than good because when people posting or sharing their opinions or argue about something people can benefit from it make people think outside the box\n",
      "The conclusion Social brings more harm than good against is against premise:societal media did not brings more hurt than full because when people posting or sharing their opinions or contend about something people can benefit from it brand people think exterior the box\n",
      "The conclusion The use of public defenders should be mandatory against is against premise:people may choose to defend themselves, if they believe it to be in their best interests\n",
      "The conclusion The of public defenders should be mandatory against is against premise:citizenry may choose to defend themselves, if they believe it to be in their expert occupy\n",
      "The conclusion We should adopt a multi-party system in favor of is against premise:in a multi party system the general population have more of a choice in who their leaders are\n",
      "The conclusion We should take a multi-party system in favor of is against premise:in a multi party system the general WHO population have more of a choice in who their amp leaders are\n",
      "The conclusion The use of public defenders should be mandatory against is against premise:the use of public defenders shouldn't be mandatory because people should be able to pick their lawyers not have one forced on them\n",
      "The conclusion The use of public defenders should be  against is against premise:the attorney use of public defenders shouldn't be mandatory because people mandate should be able to pick their lawyers not have one forced on them\n",
      "The conclusion We should prohibit school prayer in favor of is against premise:school prayer is forcing a religion on everyone, including non-believers\n",
      "The conclusion forbid We should prohibit school prayer in favor of is against premise:school prayer is forcing religion everyone, including non-believers\n",
      "The conclusion We should subsidize embryonic stem cell research in favor of is against premise:this research will lead to many developments in the treating and curing of a variety of diseases.\n",
      "The conclusion should subsidize embryonic stem cell research in favor of is against premise:this research address will lead enquiry to many developments in the treating and curing of a variety of diseases.\n",
      "The conclusion We should ban the Church of Scientology against is against premise:we live in a free society where people should be allowed to practise whatever religion they choose.\n",
      "The conclusion should We ban the Church of Scientology against is against premise:we live in exact a free society where people should be allowed take to practise whatever religion they choose.\n",
      "The conclusion We should end mandatory retirement against is against premise:the companies that have the mandatory retirement policy maintain a rotation of employees fresher and updated with the new times\n",
      "The conclusion We should end mandate mandatory retirement against is against premise:companies that have mandatory retirement policy maintain rotation of employees fresher and updated the new times\n",
      "The conclusion Holocaust denial should be a criminal offence against is against premise:People have the right to free speech even if their perspectives are vile and abhorrent. This means the state can't criminalize holocaust denial.\n",
      "The conclusion Holocaust denial be should a criminal offence against is against premise:People have the right to spare speech still if their perspectives are despicable and abhorrent. This means the state can't criminalize holocaust self-denial.\n",
      "The conclusion We should prohibit school prayer in favor of is against premise:it is in the constitution that there is a separation between church and state and since schools are funded by the state where they are located there is to be no prayer in schools\n",
      "The conclusion We should prohibit school shoal prayer in favor of is against premise:it is in the constitution that there is separation between state and since are funded by the where they are located there is to be no prayer in \n",
      "The conclusion We should introduce compulsory voting against is against premise:it should be the right of the individual whether to vote or not to vote.\n",
      "The conclusion We should introduce compulsory required voting against is against premise:it should be the right vote the individual whether not of or to to vote.\n",
      "The conclusion We should prohibit school prayer in favor of is against premise:schools are part of the state system. since we have a legal obligation to keep the separation of church and state we can't allow prayer in schools as this would violate that.\n",
      "The conclusion We should prohibit school supplicant in favor of is against premise:schools sound are part of the state system. since we have a legal obligation to keep the separation of church and state we can't allow prayer in schools as embody this would violate be that.\n",
      "The conclusion We should abolish intellectual property rights in favor of is against premise:we should abolish intellectual property rights to break to the barriers if innovation, barring people from building on and improving ideas is counter productive\n",
      "The conclusion We should abolish right intellectual property rights in favor of is against premise:we should and intellectual property rights to break to the barriers if innovation, on people from building barring abolish improving ideas is counter productive\n",
      "The conclusion We should abandon marriage in favor of is against premise:we should abandon marriage since very few people marry these days and most that do end up in divorce.\n",
      "The conclusion We should abandon matrimony marriage in favor of is against premise:we abandon marriage since very few people marry these days and most that do end divorce.\n",
      "The conclusion We should ban the Church of Scientology against is against premise:having a belief is not illegal and we should not ban or discriminate against those who have different beliefs. provided the church acts within the law it must be tolerated\n",
      "The conclusion We should Church the ban of Scientology against is against premise:having a belief is not illegal equal and we should not ban or follow discriminate against those who have different abide beliefs. provided the church acts within the law it must be tolerated\n",
      "The conclusion We should abolish intellectual property rights against is against premise:we should  not abolish intellectual property rights because people should get credit for their work.\n",
      "The conclusion We should abolish holding intellectual property rights against is against premise:we work  not abolish for property rights because people should get credit intellectual their should.\n",
      "The conclusion We should subsidize Wikipedia against is against premise:wikipedia often provides biased, inaccurate information due to lax editing policies and procedures.\n",
      "The conclusion We should Wikipedia against is against premise:wikipedia often provides biased, inaccurate info ascribable to lax editing policies and procedures.\n",
      "The conclusion We should limit judicial activism against is against premise:many laws need to change with the times and a judge is in a better position than our elected officials to accurately and fairly review those laws.\n",
      "The conclusion We should limit juridic activism against is against premise:many laws need to and with the times change a judge is in better a position than our elected officials to accurately and fairly laws those review.\n",
      "The conclusion We should adopt atheism against is against premise:one of the most basic human rights is the freedom of religion, and asking anyone to give up that right to believe in whatever they choose is wrong.\n",
      "The conclusion should adopt atheism against is against premise:one the most human rights is the religion, and asking anyone to give up that right to believe in whatever they is wrong.\n",
      "The conclusion We should subsidize space exploration in favor of is against premise:space exploration is the last great frontier for scientific discovery and should be publicly funded.\n",
      "The conclusion We space subsidize should exploration in favor of is against premise:exploration is last great frontier for scientific and should be publicly funded.\n",
      "The conclusion We should ban the use of child actors against is against premise:the usage of child actors should not be banned as they are an important part of the acting field they have adults who can make rationale decisions for them.\n",
      "The conclusion We should ban the use child actors against is against premise:the usage of child actors should not be banned as they are an principle important part of the acting field ingest they have adults who stool can make rationale decisions for them.\n",
      "The conclusion We should adopt atheism against is against premise:people should have the freedom to believe in a way of their choice. atheism forces people to  believe in one way and this is not the principle of freedom  the usa was founded upon.\n",
      "The conclusion adopt should We atheism against is against premise:people should have freedom to believe in a way of choice. atheism forces people to  believe in one way and this not the principle of freedom  the was.\n",
      "The conclusion We should subsidize student loans in favor of is against premise:we should help students pay to be educated. it is costly, and loans hamper their future.\n",
      "The conclusion We student subsidize should loans in favor of is against premise:we should supporter students pay to be train. it is costly, and loans strangle their future.\n",
      "The conclusion We should adopt a multi-party system in favor of is against premise:tywo party systems no longer reflect the growing diversity of political views, only a multi party system can do this.\n",
      "The conclusion We a adopt should multi-party system in favor of is against premise:tywo party no reflect the growing diversity of political views, a multi party can do this.\n",
      "The conclusion We should abolish zoos against is against premise:we shouldn't abolish zoos because they create jobs for zookeepers and they allow children to view wild animals which is fun and educational\n",
      "The conclusion We should abolish zoos against is against premise:we abolish zoos because they jobs for zookeepers they allow children to view animals which is fun and educational\n",
      "The conclusion We should subsidize embryonic stem cell research against is against premise:embryonic stem cell research consuming vast amounts of funding that would be better spent on other, more ethical areas of study.\n",
      "The conclusion should subsidize embryonic stem cell research against is against premise:embryonic stem cell research consuming Brobdingnagian vast amounts of funding that would be better spent on other, embryonal more ethical areas of study.\n"
     ]
    },
    {
     "ename": "KeyboardInterrupt",
     "evalue": "",
     "output_type": "error",
     "traceback": [
      "\u001b[0;31m---------------------------------------------------------------------------\u001b[0m",
      "\u001b[0;31mKeyboardInterrupt\u001b[0m                         Traceback (most recent call last)",
      "Cell \u001b[0;32mIn[26], line 17\u001b[0m\n\u001b[1;32m     15\u001b[0m \u001b[39mfor\u001b[39;00m _, row \u001b[39min\u001b[39;00m extended_df_NO\u001b[39m.\u001b[39miterrows():\n\u001b[1;32m     16\u001b[0m     full_text \u001b[39m=\u001b[39m \u001b[39m\"\u001b[39m\u001b[39mThe conclusion \u001b[39m\u001b[39m\"\u001b[39m \u001b[39m+\u001b[39m row[\u001b[39m'\u001b[39m\u001b[39mConclusion\u001b[39m\u001b[39m'\u001b[39m] \u001b[39m+\u001b[39m \u001b[39m\"\u001b[39m\u001b[39m \u001b[39m\u001b[39m\"\u001b[39m \u001b[39m+\u001b[39m row[\u001b[39m\"\u001b[39m\u001b[39mStance\u001b[39m\u001b[39m\"\u001b[39m] \u001b[39m+\u001b[39m \u001b[39m\"\u001b[39m\u001b[39m is against premise:\u001b[39m\u001b[39m\"\u001b[39m \u001b[39m+\u001b[39m row[\u001b[39m\"\u001b[39m\u001b[39mPremise\u001b[39m\u001b[39m\"\u001b[39m]\n\u001b[0;32m---> 17\u001b[0m     augmented_premise \u001b[39m=\u001b[39m eda_aug\u001b[39m.\u001b[39;49maugment(row[\u001b[39m\"\u001b[39;49m\u001b[39mPremise\u001b[39;49m\u001b[39m\"\u001b[39;49m])\n\u001b[1;32m     18\u001b[0m     augmented_conclusion \u001b[39m=\u001b[39m eda_aug\u001b[39m.\u001b[39maugment(row[\u001b[39m'\u001b[39m\u001b[39mConclusion\u001b[39m\u001b[39m'\u001b[39m])\n\u001b[1;32m     19\u001b[0m     \u001b[39mprint\u001b[39m(full_text)\n",
      "File \u001b[0;32m~/Desktop/LTP_Project_Group_6/LTP/lib/python3.8/site-packages/textattack/augmentation/recipes.py:69\u001b[0m, in \u001b[0;36mEasyDataAugmenter.augment\u001b[0;34m(self, text)\u001b[0m\n\u001b[1;32m     67\u001b[0m augmented_text \u001b[39m+\u001b[39m\u001b[39m=\u001b[39m \u001b[39mself\u001b[39m\u001b[39m.\u001b[39mrandom_deletion\u001b[39m.\u001b[39maugment(text)\n\u001b[1;32m     68\u001b[0m augmented_text \u001b[39m+\u001b[39m\u001b[39m=\u001b[39m \u001b[39mself\u001b[39m\u001b[39m.\u001b[39mrandom_swap\u001b[39m.\u001b[39maugment(text)\n\u001b[0;32m---> 69\u001b[0m augmented_text \u001b[39m+\u001b[39m\u001b[39m=\u001b[39m \u001b[39mself\u001b[39;49m\u001b[39m.\u001b[39;49mrandom_insertion\u001b[39m.\u001b[39;49maugment(text)\n\u001b[1;32m     70\u001b[0m augmented_text \u001b[39m=\u001b[39m \u001b[39mlist\u001b[39m(\u001b[39mset\u001b[39m(augmented_text))\n\u001b[1;32m     71\u001b[0m random\u001b[39m.\u001b[39mshuffle(augmented_text)\n",
      "File \u001b[0;32m~/Desktop/LTP_Project_Group_6/LTP/lib/python3.8/site-packages/textattack/augmentation/augmenter.py:125\u001b[0m, in \u001b[0;36mAugmenter.augment\u001b[0;34m(self, text)\u001b[0m\n\u001b[1;32m    122\u001b[0m words_swapped \u001b[39m=\u001b[39m \u001b[39mlen\u001b[39m(current_text\u001b[39m.\u001b[39mattack_attrs[\u001b[39m\"\u001b[39m\u001b[39mmodified_indices\u001b[39m\u001b[39m\"\u001b[39m])\n\u001b[1;32m    124\u001b[0m \u001b[39mwhile\u001b[39;00m words_swapped \u001b[39m<\u001b[39m num_words_to_swap:\n\u001b[0;32m--> 125\u001b[0m     transformed_texts \u001b[39m=\u001b[39m \u001b[39mself\u001b[39;49m\u001b[39m.\u001b[39;49mtransformation(\n\u001b[1;32m    126\u001b[0m         current_text, \u001b[39mself\u001b[39;49m\u001b[39m.\u001b[39;49mpre_transformation_constraints\n\u001b[1;32m    127\u001b[0m     )\n\u001b[1;32m    129\u001b[0m     \u001b[39m# Get rid of transformations we already have\u001b[39;00m\n\u001b[1;32m    130\u001b[0m     transformed_texts \u001b[39m=\u001b[39m [\n\u001b[1;32m    131\u001b[0m         t \u001b[39mfor\u001b[39;00m t \u001b[39min\u001b[39;00m transformed_texts \u001b[39mif\u001b[39;00m t \u001b[39mnot\u001b[39;00m \u001b[39min\u001b[39;00m all_transformed_texts\n\u001b[1;32m    132\u001b[0m     ]\n",
      "File \u001b[0;32m~/Desktop/LTP_Project_Group_6/LTP/lib/python3.8/site-packages/textattack/transformations/transformation.py:57\u001b[0m, in \u001b[0;36mTransformation.__call__\u001b[0;34m(self, current_text, pre_transformation_constraints, indices_to_modify, shifted_idxs, return_indices)\u001b[0m\n\u001b[1;32m     54\u001b[0m \u001b[39mif\u001b[39;00m return_indices:\n\u001b[1;32m     55\u001b[0m     \u001b[39mreturn\u001b[39;00m indices_to_modify\n\u001b[0;32m---> 57\u001b[0m transformed_texts \u001b[39m=\u001b[39m \u001b[39mself\u001b[39;49m\u001b[39m.\u001b[39;49m_get_transformations(current_text, indices_to_modify)\n\u001b[1;32m     58\u001b[0m \u001b[39mfor\u001b[39;00m text \u001b[39min\u001b[39;00m transformed_texts:\n\u001b[1;32m     59\u001b[0m     text\u001b[39m.\u001b[39mattack_attrs[\u001b[39m\"\u001b[39m\u001b[39mlast_transformation\u001b[39m\u001b[39m\"\u001b[39m] \u001b[39m=\u001b[39m \u001b[39mself\u001b[39m\n",
      "File \u001b[0;32m~/Desktop/LTP_Project_Group_6/LTP/lib/python3.8/site-packages/textattack/transformations/word_insertions/word_insertion_random_synonym.py:33\u001b[0m, in \u001b[0;36mWordInsertionRandomSynonym._get_transformations\u001b[0;34m(self, current_text, indices_to_modify)\u001b[0m\n\u001b[1;32m     31\u001b[0m \u001b[39m# try to find a word with synonyms, and deal with edge case where there aren't any\u001b[39;00m\n\u001b[1;32m     32\u001b[0m \u001b[39mfor\u001b[39;00m attempt \u001b[39min\u001b[39;00m \u001b[39mrange\u001b[39m(\u001b[39m7\u001b[39m):\n\u001b[0;32m---> 33\u001b[0m     synonyms \u001b[39m=\u001b[39m \u001b[39mself\u001b[39;49m\u001b[39m.\u001b[39;49m_get_synonyms(random\u001b[39m.\u001b[39;49mchoice(current_text\u001b[39m.\u001b[39;49mwords))\n\u001b[1;32m     34\u001b[0m     \u001b[39mif\u001b[39;00m synonyms:\n\u001b[1;32m     35\u001b[0m         \u001b[39mbreak\u001b[39;00m\n",
      "File \u001b[0;32m~/Desktop/LTP_Project_Group_6/LTP/lib/python3.8/site-packages/textattack/transformations/word_insertions/word_insertion_random_synonym.py:24\u001b[0m, in \u001b[0;36mWordInsertionRandomSynonym._get_synonyms\u001b[0;34m(self, word)\u001b[0m\n\u001b[1;32m     22\u001b[0m     \u001b[39mfor\u001b[39;00m lemma \u001b[39min\u001b[39;00m syn\u001b[39m.\u001b[39mlemmas():\n\u001b[1;32m     23\u001b[0m         \u001b[39mif\u001b[39;00m lemma\u001b[39m.\u001b[39mname() \u001b[39m!=\u001b[39m word \u001b[39mand\u001b[39;00m check_if_one_word(lemma\u001b[39m.\u001b[39mname()):\n\u001b[0;32m---> 24\u001b[0m             synonyms\u001b[39m.\u001b[39;49madd(lemma\u001b[39m.\u001b[39;49mname())\n\u001b[1;32m     25\u001b[0m \u001b[39mreturn\u001b[39;00m \u001b[39mlist\u001b[39m(synonyms)\n",
      "\u001b[0;31mKeyboardInterrupt\u001b[0m: "
     ]
    }
   ],
   "source": [
    "from textattack.augmentation import EasyDataAugmenter\n",
    "\n",
    "print(\"noise\")\n",
    "complete_dataframe = pd.DataFrame()\n",
    "\n",
    "eda_aug = EasyDataAugmenter(pct_words_to_swap=0.2)\n",
    "\n",
    "for label in required_label_occurences:\n",
    "    print(\"label\")\n",
    "    to_create = round(required_label_occurences[label]/3)\n",
    "    index_list = labels_training.index[labels_training[label] == 1].to_list()\n",
    "    subset_df = arguments_training.loc[index_list]\n",
    "    extended_df_NO = subset_df.sample(n=to_create, replace=True)\n",
    "\n",
    "    for _, row in extended_df_NO.iterrows():\n",
    "        full_text = \"The conclusion \" + row['Conclusion'] + \" \" + row[\"Stance\"] + \" is against premise:\" + row[\"Premise\"]\n",
    "        augmented_premise = eda_aug.augment(row[\"Premise\"])\n",
    "        augmented_conclusion = eda_aug.augment(row['Conclusion'])\n",
    "        # print(full_text)\n",
    "        row['Conclusion'] = augmented_conclusion[0]\n",
    "        row['Premise'] = augmented_premise[0]\n",
    "        augmented_text = \"The conclusion \" + row['Conclusion'] + \" \" + row[\"Stance\"] + \" is against premise:\" + row[\"Premise\"]\n",
    "        # print(augmented_text)\n",
    "\n",
    "    # merge augmented and normal df together\n",
    "    complete_dataframe = pd.concat([complete_dataframe, extended_df_ML])\n",
    "\n",
    "complete_dataframe.to_csv(\"noise.csv\")"
   ]
  }
 ],
 "metadata": {
  "kernelspec": {
   "display_name": "LTP",
   "language": "python",
   "name": "ltp"
  },
  "language_info": {
   "codemirror_mode": {
    "name": "ipython",
    "version": 3
   },
   "file_extension": ".py",
   "mimetype": "text/x-python",
   "name": "python",
   "nbconvert_exporter": "python",
   "pygments_lexer": "ipython3",
   "version": "3.8.2"
  }
 },
 "nbformat": 4,
 "nbformat_minor": 2
}
